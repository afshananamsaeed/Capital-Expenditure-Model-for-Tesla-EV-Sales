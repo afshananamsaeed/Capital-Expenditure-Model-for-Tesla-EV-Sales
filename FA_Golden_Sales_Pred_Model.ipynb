{
  "cells": [
    {
      "cell_type": "markdown",
      "metadata": {
        "id": "yaFJV-GrI8_3"
      },
      "source": [
        "### Financial Analysis for Value Creation and Decision Making Project\n",
        "\n",
        "#### Submitted By: Team Golden Sales\n",
        "Pyros Orfeas Bollano,\n",
        "Migle Kasetaite,\n",
        "Afshan Anam Saeed,\n",
        "Paloma Bootello Campos,\n",
        "Victor Preito Gill"
      ]
    },
    {
      "cell_type": "markdown",
      "metadata": {
        "id": "bIKEcftEI8_9"
      },
      "source": [
        "<b> Project Abstract </b>\n",
        "\n",
        "Our current project is based on the sales and finances of an Electric Car making company named \"Tesla\". Tesla is an Electric Vehicle and clean energy supplier company, that is based in the United States. It manufactures cars, batteries, solar panels, etc., and is emerging to become one of the most valuable countries in the world. Founded in 2003, it produced its first car in the year 2009, and was IPO listed in 2010. It launched itself in the Electric Car domain in the year 2012, and has dominated the electric car space with its modern EV and driver assistant technology. Currently, its presence is seen in most of the developed first world countries, including USA, Canada, China and Europe.\n",
        "\n",
        "As employees under the CFO of Tesla, we intend on advising the management regarding its expenditures and future sales. From its historic sales, budget and accounting information, we attempt to create a time series model to predict the sales of Tesla in various continents. Additionally, we attempted a production model to cater to the production capacity of Tesla and another model to predict the required Capital Expenditures to meet the sales, keeping a certain goal in mind. Climate change information, which was taken from NASA database, has also been added to the data to help advice the marketing team for associating climate change and the need for renewable energy to meet its marketing goals."
      ]
    },
    {
      "cell_type": "markdown",
      "metadata": {
        "id": "yN6S7xy3I8_-"
      },
      "source": [
        "<b> Data Extraction </b>\n",
        "\n",
        "Our data contains an array of information that we felt were useful for carrying prediction models for Tesla. Since Tesla is a publically listed company, the accounts information, including the sales information, were obtained from its website, starting from a period of 2011. These sales have been segregarted country wise. Certain worldwide car sales information was also taken from data websites to understand the growth in the worldwide market share of Tesla. The factory information was taken from Wikipedia, and the share price information, along with its increasing volume sold were taken from an API named yfinance. Additionally, public data websites helped in providing us with the climate change information, GDP of countries and crude Oil prices. Certain type of information that we felt was important, like the Public belief in climate change, policies linked to EV in countries, import duties on cars within countries, standard fuel prices country wise, etc. could, unfortunately, not be found on the internet.  "
      ]
    },
    {
      "cell_type": "code",
      "execution_count": null,
      "metadata": {
        "colab": {
          "base_uri": "https://localhost:8080/"
        },
        "id": "BSahotYSI8__",
        "outputId": "b6657991-4e96-4bcd-a725-2dead35f949f"
      },
      "outputs": [
        {
          "name": "stdout",
          "output_type": "stream",
          "text": [
            "<class 'pandas.core.frame.DataFrame'>\n",
            "RangeIndex: 344 entries, 0 to 343\n",
            "Data columns (total 46 columns):\n",
            " #   Column                                                  Non-Null Count  Dtype  \n",
            "---  ------                                                  --------------  -----  \n",
            " 0   Date                                                    344 non-null    object \n",
            " 1   Year/Quarter                                            344 non-null    object \n",
            " 2   Year                                                    344 non-null    int64  \n",
            " 3   Quarter                                                 344 non-null    int64  \n",
            " 4   Country                                                 344 non-null    object \n",
            " 5   Continent                                               344 non-null    object \n",
            " 6   Carbon Dioxide / Yearly Average (ppm)                   344 non-null    float64\n",
            " 7   Arctic Sea Ice Extent / million square km               344 non-null    float64\n",
            " 8   Temperature Anomaly (C)                                 344 non-null    float64\n",
            " 9   Antarctic mass / Gigatonnes                             344 non-null    object \n",
            " 10  GMSL (global mean sea level) Variation / mm             344 non-null    float64\n",
            " 11  Public Belief in the Climate Emergency (%)              104 non-null    float64\n",
            " 12  Total Production (Global)                               344 non-null    int64  \n",
            " 13  Total Deliveries (Global)                               344 non-null    int64  \n",
            " 14  Solar Deployed (Global)                                 344 non-null    int64  \n",
            " 15  Storage Deployed (Global)                               344 non-null    int64  \n",
            " 16  Presence of a Production Unit (Y/N)                     344 non-null    object \n",
            " 17  Total Production Units                                  344 non-null    int64  \n",
            " 18  GDP per capita, PPP (constant 2017 international $)     320 non-null    float64\n",
            " 19  Crude oil import price per barrel ($ USD)               280 non-null    float64\n",
            " 20  Average Fuel price per liter (in $)                     53 non-null     float64\n",
            " 21  Unit Sales                                              344 non-null    int64  \n",
            " 22  Percentage of total sales (year)                        344 non-null    int64  \n",
            " 23  Tesla Market share of country sales to continent        344 non-null    float64\n",
            " 24  Total car sales per continent(all carmakers)-year_data  344 non-null    int64  \n",
            " 25  Total car sales(worldwide)-year_data                    344 non-null    int64  \n",
            " 26  Tesla Market share of total global sales                344 non-null    float64\n",
            " 27  Open Stocks                                             344 non-null    float64\n",
            " 28  High Stocks                                             344 non-null    float64\n",
            " 29  Low Stocks                                              344 non-null    float64\n",
            " 30  Adj Close Stocks                                        344 non-null    float64\n",
            " 31  Volume Stock                                            344 non-null    float64\n",
            " 32  Revenues                                                344 non-null    int64  \n",
            " 33  Cost of revenues                                        344 non-null    int64  \n",
            " 34  Operating expenses                                      344 non-null    int64  \n",
            " 35  Net loss                                                272 non-null    float64\n",
            " 36  Total assets                                            344 non-null    int64  \n",
            " 37  Total Liabilities                                       344 non-null    int64  \n",
            " 38  Capital expenditures                                    344 non-null    int64  \n",
            " 39  Cash and Investment                                     344 non-null    int64  \n",
            " 40  Average value of vehicles delivered                     0 non-null      float64\n",
            " 41  Net income (GAAP)                                       0 non-null      float64\n",
            " 42  Unnamed: 42                                             0 non-null      float64\n",
            " 43  Unnamed: 43                                             0 non-null      float64\n",
            " 44  Import Duties applicable or not (True/ False)           0 non-null      float64\n",
            " 45  If import Duties- its value (%)                         0 non-null      float64\n",
            "dtypes: float64(22), int64(18), object(6)\n",
            "memory usage: 123.8+ KB\n"
          ]
        }
      ],
      "source": [
        "#importing the data set\n",
        "import pandas as pd\n",
        "df=pd.read_csv(\"/content/DATA SPREADSHEET - DATA SHEET.csv\")\n",
        "df.info()"
      ]
    },
    {
      "cell_type": "markdown",
      "metadata": {
        "id": "0rSX8fmLI9AB"
      },
      "source": [
        "<b> Data Cleaning </b>\n",
        "\n",
        "Our data contains certain missing information. Our first step, therefore, is to remove the columns that have more than 20% null values. Our next step would be to replace the null values in the remaining columns with their most suitable values. For this purpose we have used the iterative imputer method provided in the sklearn library of Python. "
      ]
    },
    {
      "cell_type": "code",
      "execution_count": null,
      "metadata": {
        "id": "GoKZoiAlI9AB"
      },
      "outputs": [],
      "source": [
        "#importing the necessary libraries for imputing\n",
        "import numpy as np\n",
        "import matplotlib.pyplot as plt\n",
        "from sklearn.experimental import enable_iterative_imputer\n",
        "from sklearn.impute import SimpleImputer, KNNImputer, IterativeImputer"
      ]
    },
    {
      "cell_type": "code",
      "execution_count": null,
      "metadata": {
        "id": "oVfAQLDkI9AC"
      },
      "outputs": [],
      "source": [
        "#dropping the unnecessary columns\n",
        "df.drop(columns=[\"Unnamed: 42\",\"Unnamed: 43\",\n",
        "                 \"Import Duties applicable or not (True/ False)\",\n",
        "                 \"If import Duties- its value (%)\",\"Net income (GAAP)\",\n",
        "                 \"Average value of vehicles delivered\",\"Average Fuel price per liter (in $)\",\n",
        "                 \"Public Belief in the Climate Emergency (%)\",\"Antarctic mass / Gigatonnes\"],inplace=True)"
      ]
    },
    {
      "cell_type": "markdown",
      "metadata": {
        "id": "c0DWDX4kI9AD"
      },
      "source": [
        "Iterative Imputer estimates the missing values in the feature from all the other values present in our dataset. This means it also depends upon other features. Since most of the information in our dataset is related to Tesla, in order to impute values like the GDP and the crude oil prices, we need to make another dataframe containing only certain those features that we think might be relevant for them. For the missing values within Tesla features, most of the features will be used to carry out simple imputation.\n",
        "\n",
        "One thing to note for this type of imputation is that all the features need to be of the type float, and thus, converting data types of features, and dummification of categorical variables has also been carried out within. "
      ]
    },
    {
      "cell_type": "code",
      "execution_count": null,
      "metadata": {
        "colab": {
          "base_uri": "https://localhost:8080/"
        },
        "id": "hHr_Y8dSI9AE",
        "outputId": "bb8f5172-d44f-4f07-a8d2-fa7fe47f44dd"
      },
      "outputs": [
        {
          "name": "stdout",
          "output_type": "stream",
          "text": [
            "[IterativeImputer] Completing matrix with shape (344, 14)\n",
            "[IterativeImputer] Ending imputation round 1/10, elapsed time 0.03\n",
            "[IterativeImputer] Change: 34238.28343650212, scaled tolerance: 70.92032472999999 \n",
            "[IterativeImputer] Ending imputation round 2/10, elapsed time 0.05\n",
            "[IterativeImputer] Change: 0.0, scaled tolerance: 70.92032472999999 \n",
            "[IterativeImputer] Early stopping criterion reached.\n",
            "[IterativeImputer] Completing matrix with shape (344, 14)\n",
            "[IterativeImputer] Ending imputation round 1/10, elapsed time 0.02\n",
            "[IterativeImputer] Change: 47.26782404044975, scaled tolerance: 2.021 \n",
            "[IterativeImputer] Ending imputation round 2/10, elapsed time 0.04\n",
            "[IterativeImputer] Change: 0.0, scaled tolerance: 2.021 \n",
            "[IterativeImputer] Early stopping criterion reached.\n",
            "[IterativeImputer] Completing matrix with shape (344, 43)\n",
            "[IterativeImputer] Ending imputation round 1/10, elapsed time 0.33\n",
            "[IterativeImputer] Change: 3198708.649858648, scaled tolerance: 105000.0 \n",
            "[IterativeImputer] Ending imputation round 2/10, elapsed time 0.60\n",
            "[IterativeImputer] Change: 0.0, scaled tolerance: 105000.0 \n",
            "[IterativeImputer] Early stopping criterion reached.\n"
          ]
        }
      ],
      "source": [
        "#imputing the GDP Values\n",
        "selected_columns = df[[\"Year\",\"Quarter\",\"Country\",\"Continent\",\"GDP per capita, PPP (constant 2017 international $)\"]]\n",
        "df_interpol=selected_columns.copy()\n",
        "df_interpol=pd.get_dummies(df_interpol,columns=[\"Country\",\"Continent\"])\n",
        "columns = df_interpol.columns\n",
        "df_interpol = IterativeImputer(random_state=0, verbose=2).fit_transform(df_interpol)\n",
        "df_interpol = pd.DataFrame(df_interpol, columns=columns)\n",
        "df[\"GDP per capita, PPP (constant 2017 international $)\"]=df_interpol[\"GDP per capita, PPP (constant 2017 international $)\"]\n",
        "\n",
        "#imputing the Crude Oil Price Values\n",
        "selected_columns = df[[\"Year\",\"Quarter\",\"Country\",\"Continent\",\"Crude oil import price per barrel ($ USD)\"]]\n",
        "df_interpol=selected_columns.copy()\n",
        "df_interpol=pd.get_dummies(df_interpol,columns=[\"Country\",\"Continent\"])\n",
        "columns = df_interpol.columns\n",
        "df_interpol = IterativeImputer(random_state=0, verbose=2).fit_transform(df_interpol)\n",
        "df_interpol = pd.DataFrame(df_interpol, columns=columns)\n",
        "df[\"Crude oil import price per barrel ($ USD)\"]=df_interpol[\"Crude oil import price per barrel ($ USD)\"]\n",
        "\n",
        "#imputing the remaining columns- making sure all values of the type float\n",
        "df.drop(columns=[\"Date\",\"Year/Quarter\",\"Year\",\"Quarter\"],inplace=True)\n",
        "df[\"Tesla Market share of country sales to continent\"].astype(float)\n",
        "df[\"Tesla Market share of total global sales\"].astype(float)\n",
        "df = pd.get_dummies(df,columns=[\"Country\",\"Continent\",\"Presence of a Production Unit (Y/N)\"])\n",
        "columns = df.columns\n",
        "df = IterativeImputer(random_state=0, verbose=2).fit_transform(df)\n",
        "\n",
        "df = pd.DataFrame(df, columns=columns)\n",
        "df_refined=df.copy()\n",
        "df_new=pd.read_csv(\"/content/DATA SPREADSHEET - DATA SHEET.csv\")\n",
        "df_new[\"Date\"]=pd.to_datetime(df_new[\"Date\"])\n",
        "df_grouped=df.insert(0,\"Date\",df_new[\"Date\"])\n",
        "df_grouped=df.insert(1,\"Year/Quarter\",df_new[\"Year/Quarter\"])"
      ]
    },
    {
      "cell_type": "markdown",
      "metadata": {
        "id": "poHUk9cEI9AF"
      },
      "source": [
        "<b> Exploratory Data Analysis </b>\n",
        "\n",
        "In this part, we are going to view our dataset and understand the meaning behind our values. The analysis has also been conducted in the Power BI dashboard attached with the file. We will use the library Seaborn in Python for visualizing our data."
      ]
    },
    {
      "cell_type": "code",
      "execution_count": null,
      "metadata": {
        "colab": {
          "base_uri": "https://localhost:8080/",
          "height": 1000
        },
        "id": "q2uKI5ttI9AG",
        "outputId": "996813b8-0f38-4fda-85a9-4f32118e08cb"
      },
      "outputs": [
        {
          "data": {
            "text/plain": [
              "<matplotlib.axes._subplots.AxesSubplot at 0x7f816aa583d0>"
            ]
          },
          "execution_count": 57,
          "metadata": {},
          "output_type": "execute_result"
        },
        {
          "data": {
            "image/png": "[encoded data removed]",
            "text/plain": [
              "<Figure size 1152x1152 with 2 Axes>"
            ]
          },
          "metadata": {
            "needs_background": "light"
          },
          "output_type": "display_data"
        }
      ],
      "source": [
        "# finding the correlation of all features\n",
        "fig = plt.figure(figsize= (16,16))\n",
        "import seaborn as sns\n",
        "sns.heatmap(df.corr(), annot=False, vmax=1, cmap='viridis', square=False)"
      ]
    },
    {
      "cell_type": "markdown",
      "metadata": {
        "id": "Pp0cqDrcI9AH"
      },
      "source": [
        "<b> Observations: EDA </b>\n",
        "\n",
        "From the correlation matrix above we can see that:\n",
        "1. Unit Sales are highly correlated with Cash and Investment, Total Liabilities and Assets, Net Loss, Operating Expenses, Revenues, Total Production and Stocks factors. This means that Unit Sales increase impacts the increase in other Tesla financial components. It also shows good correlation with the countries.\n",
        "2. Most of the revenues and financial information look correlated with the investments Tesla has made over time, for example in Production Units, Solar deployed, etc. One can be a causation of the other.\n",
        "3. Capital expenditure values (which are negative in our data set) also shows high correlation to most of the factors.\n",
        "4. GDP and Crude Oil prices do not show very well correlation with the Unit Sales of Tesla. However, it shows correlation with the cars sold worldwide from all automakers. \n",
        "5. Climate change information does not show very significant correlation with the sales of Tesla. However, the share prices of Tesla are very much dependent upon these factors, signifying a good approach towards Tesla's marketing strategy of associating them with sales of Green goods."
      ]
    },
    {
      "cell_type": "markdown",
      "metadata": {
        "id": "45HHgHe1I9AI"
      },
      "source": [
        "<b> Data Modelling </b>\n",
        "\n",
        "In this section, we will start carrying out modelling of the dataset. Three types of models will be placed in front of you, one involving the time series analysis and sales prediction modelling, the other associated with the production modelling, and the third that helps predict the capital expenditures for the company. "
      ]
    },
    {
      "cell_type": "markdown",
      "metadata": {
        "id": "pFbFtLipI9AI"
      },
      "source": [
        "<b> A) Worldwide Sales Prediction- Time Series Modelling </b>\n",
        "\n",
        "In order to carry out predictions for the worldwide Unit sales, we will be using Deep Learning Libraries like Keras for doing the predictions. "
      ]
    },
    {
      "cell_type": "code",
      "execution_count": null,
      "metadata": {
        "id": "GrNH7w-bI9AI"
      },
      "outputs": [],
      "source": [
        "#importing the necessary libraries\n",
        "import keras\n",
        "from keras.layers import Dense\n",
        "from keras.models import Sequential\n",
        "#from keras.optimizers import Adam \n",
        "from keras.callbacks import EarlyStopping\n",
        "from keras.utils import np_utils\n",
        "from keras.layers import LSTM\n",
        "from keras import metrics\n",
        "\n",
        "from sklearn.model_selection import KFold, cross_val_score, train_test_split"
      ]
    },
    {
      "cell_type": "code",
      "execution_count": null,
      "metadata": {
        "colab": {
          "base_uri": "https://localhost:8080/",
          "height": 206
        },
        "id": "FsPwjvg4I9AJ",
        "outputId": "efbd0a9b-54be-4d6a-dc81-110e001ce643"
      },
      "outputs": [
        {
          "data": {
            "text/html": [
              "<div>\n",
              "<style scoped>\n",
              "    .dataframe tbody tr th:only-of-type {\n",
              "        vertical-align: middle;\n",
              "    }\n",
              "\n",
              "    .dataframe tbody tr th {\n",
              "        vertical-align: top;\n",
              "    }\n",
              "\n",
              "    .dataframe thead th {\n",
              "        text-align: right;\n",
              "    }\n",
              "</style>\n",
              "<table border=\"1\" class=\"dataframe\">\n",
              "  <thead>\n",
              "    <tr style=\"text-align: right;\">\n",
              "      <th></th>\n",
              "      <th>Year/Quarter</th>\n",
              "      <th>Unit Sales</th>\n",
              "    </tr>\n",
              "  </thead>\n",
              "  <tbody>\n",
              "    <tr>\n",
              "      <th>0</th>\n",
              "      <td>2011/Q1</td>\n",
              "      <td>0.0</td>\n",
              "    </tr>\n",
              "    <tr>\n",
              "      <th>1</th>\n",
              "      <td>2011/Q2</td>\n",
              "      <td>0.0</td>\n",
              "    </tr>\n",
              "    <tr>\n",
              "      <th>2</th>\n",
              "      <td>2011/Q3</td>\n",
              "      <td>0.0</td>\n",
              "    </tr>\n",
              "    <tr>\n",
              "      <th>3</th>\n",
              "      <td>2011/Q4</td>\n",
              "      <td>0.0</td>\n",
              "    </tr>\n",
              "    <tr>\n",
              "      <th>4</th>\n",
              "      <td>2012/Q1</td>\n",
              "      <td>0.0</td>\n",
              "    </tr>\n",
              "  </tbody>\n",
              "</table>\n",
              "</div>"
            ],
            "text/plain": [
              "  Year/Quarter  Unit Sales\n",
              "0      2011/Q1         0.0\n",
              "1      2011/Q2         0.0\n",
              "2      2011/Q3         0.0\n",
              "3      2011/Q4         0.0\n",
              "4      2012/Q1         0.0"
            ]
          },
          "execution_count": 59,
          "metadata": {},
          "output_type": "execute_result"
        }
      ],
      "source": [
        "#selecting the necessary columns\n",
        "df_sales=df[[\"Year/Quarter\",\"Unit Sales\"]]\n",
        "\n",
        "#grouping the data by Quarter\n",
        "df_sales=df_sales.groupby(\"Year/Quarter\").sum()\n",
        "df_sales.reset_index(inplace=True)\n",
        "df_sales.head()"
      ]
    },
    {
      "cell_type": "markdown",
      "metadata": {
        "id": "aw7BNlKeI9AJ"
      },
      "source": [
        "Our current approach is to understand the stationarity of the sales data to model it further. Thus we will be taking the difference in the sales from the previous quarter to understand the trends."
      ]
    },
    {
      "cell_type": "code",
      "execution_count": null,
      "metadata": {
        "colab": {
          "base_uri": "https://localhost:8080/",
          "height": 363
        },
        "id": "OA6YHT3AI9AJ",
        "outputId": "ac2c2f5b-016b-492e-dd53-0ccb82be93db"
      },
      "outputs": [
        {
          "data": {
            "text/html": [
              "<div>\n",
              "<style scoped>\n",
              "    .dataframe tbody tr th:only-of-type {\n",
              "        vertical-align: middle;\n",
              "    }\n",
              "\n",
              "    .dataframe tbody tr th {\n",
              "        vertical-align: top;\n",
              "    }\n",
              "\n",
              "    .dataframe thead th {\n",
              "        text-align: right;\n",
              "    }\n",
              "</style>\n",
              "<table border=\"1\" class=\"dataframe\">\n",
              "  <thead>\n",
              "    <tr style=\"text-align: right;\">\n",
              "      <th></th>\n",
              "      <th>Year/Quarter</th>\n",
              "      <th>Unit Sales</th>\n",
              "      <th>prev_sales</th>\n",
              "      <th>diff</th>\n",
              "    </tr>\n",
              "  </thead>\n",
              "  <tbody>\n",
              "    <tr>\n",
              "      <th>0</th>\n",
              "      <td>2011/Q1</td>\n",
              "      <td>0.0</td>\n",
              "      <td>NaN</td>\n",
              "      <td>NaN</td>\n",
              "    </tr>\n",
              "    <tr>\n",
              "      <th>1</th>\n",
              "      <td>2011/Q2</td>\n",
              "      <td>0.0</td>\n",
              "      <td>0.0</td>\n",
              "      <td>0.0</td>\n",
              "    </tr>\n",
              "    <tr>\n",
              "      <th>2</th>\n",
              "      <td>2011/Q3</td>\n",
              "      <td>0.0</td>\n",
              "      <td>0.0</td>\n",
              "      <td>0.0</td>\n",
              "    </tr>\n",
              "    <tr>\n",
              "      <th>3</th>\n",
              "      <td>2011/Q4</td>\n",
              "      <td>0.0</td>\n",
              "      <td>0.0</td>\n",
              "      <td>0.0</td>\n",
              "    </tr>\n",
              "    <tr>\n",
              "      <th>4</th>\n",
              "      <td>2012/Q1</td>\n",
              "      <td>0.0</td>\n",
              "      <td>0.0</td>\n",
              "      <td>0.0</td>\n",
              "    </tr>\n",
              "    <tr>\n",
              "      <th>5</th>\n",
              "      <td>2012/Q2</td>\n",
              "      <td>0.0</td>\n",
              "      <td>0.0</td>\n",
              "      <td>0.0</td>\n",
              "    </tr>\n",
              "    <tr>\n",
              "      <th>6</th>\n",
              "      <td>2012/Q3</td>\n",
              "      <td>250.0</td>\n",
              "      <td>0.0</td>\n",
              "      <td>250.0</td>\n",
              "    </tr>\n",
              "    <tr>\n",
              "      <th>7</th>\n",
              "      <td>2012/Q4</td>\n",
              "      <td>2400.0</td>\n",
              "      <td>250.0</td>\n",
              "      <td>2150.0</td>\n",
              "    </tr>\n",
              "    <tr>\n",
              "      <th>8</th>\n",
              "      <td>2013/Q1</td>\n",
              "      <td>4818.0</td>\n",
              "      <td>2400.0</td>\n",
              "      <td>2418.0</td>\n",
              "    </tr>\n",
              "    <tr>\n",
              "      <th>9</th>\n",
              "      <td>2013/Q2</td>\n",
              "      <td>5068.0</td>\n",
              "      <td>4818.0</td>\n",
              "      <td>250.0</td>\n",
              "    </tr>\n",
              "  </tbody>\n",
              "</table>\n",
              "</div>"
            ],
            "text/plain": [
              "  Year/Quarter  Unit Sales  prev_sales    diff\n",
              "0      2011/Q1         0.0         NaN     NaN\n",
              "1      2011/Q2         0.0         0.0     0.0\n",
              "2      2011/Q3         0.0         0.0     0.0\n",
              "3      2011/Q4         0.0         0.0     0.0\n",
              "4      2012/Q1         0.0         0.0     0.0\n",
              "5      2012/Q2         0.0         0.0     0.0\n",
              "6      2012/Q3       250.0         0.0   250.0\n",
              "7      2012/Q4      2400.0       250.0  2150.0\n",
              "8      2013/Q1      4818.0      2400.0  2418.0\n",
              "9      2013/Q2      5068.0      4818.0   250.0"
            ]
          },
          "execution_count": 60,
          "metadata": {},
          "output_type": "execute_result"
        }
      ],
      "source": [
        "#create a new dataframe to model the difference\n",
        "df_diffsales = df_sales.copy()\n",
        "#add previous sales to the next row\n",
        "df_diffsales['prev_sales'] = df_diffsales['Unit Sales'].shift(1)\n",
        "df_diffsales['diff'] = (df_diffsales['Unit Sales'] - df_diffsales['prev_sales'])\n",
        "df_diffsales.head(10)"
      ]
    },
    {
      "cell_type": "code",
      "execution_count": null,
      "metadata": {
        "colab": {
          "base_uri": "https://localhost:8080/",
          "height": 654
        },
        "id": "u_dzJHEwI9AK",
        "outputId": "6f0e31e0-b54f-42ab-9c3e-ffe01d358262"
      },
      "outputs": [
        {
          "data": {
            "image/png": "[encoded data removed]",
            "text/plain": [
              "<Figure size 720x720 with 1 Axes>"
            ]
          },
          "metadata": {
            "needs_background": "light"
          },
          "output_type": "display_data"
        }
      ],
      "source": [
        "#removing the first row\n",
        "df_diffsales=df_diffsales.iloc[1:,:]\n",
        "\n",
        "plt.figure(figsize=(10,10))\n",
        "plt.plot(df_diffsales[\"Year/Quarter\"],df_diffsales[\"diff\"])\n",
        "plt.xlabel(\"Years-Quarter\")\n",
        "plt.ylabel(\"Sales Difference\")\n",
        "plt.title(\"The quarterly sales difference of Tesla\")\n",
        "plt.xticks(df_sales[\"Year/Quarter\"], rotation='vertical')\n",
        "plt.show()"
      ]
    },
    {
      "cell_type": "markdown",
      "metadata": {
        "id": "r6QLUiExI9AK"
      },
      "source": [
        "Looking deeply at this plot, we noticed that there did exist a stationarity in the Unit Sales of Tesla between 2014 to 2017. However, post 2017, the deviations became extreme, and moving forward it changes drastically. Since this is the best we could obtain, we will go ahead using these values."
      ]
    },
    {
      "cell_type": "code",
      "execution_count": null,
      "metadata": {
        "id": "e-iOpv1pI9AL"
      },
      "outputs": [],
      "source": [
        "#create dataframe for transformation from time series to supervised\n",
        "df_supervised = df_diffsales.drop(['prev_sales'],axis=1)\n",
        "#adding lags\n",
        "for inc in range(1,13):\n",
        "    field_name = 'lag_' + str(inc)\n",
        "    df_supervised[field_name] = df_supervised['diff'].shift(inc)\n",
        "#drop null values\n",
        "df_supervised = df_supervised.dropna().reset_index(drop=True)"
      ]
    },
    {
      "cell_type": "code",
      "execution_count": null,
      "metadata": {
        "colab": {
          "base_uri": "https://localhost:8080/"
        },
        "id": "l0W3qIEiI9AL",
        "outputId": "19af66f1-93c2-45c3-e0fd-79e030b5847c"
      },
      "outputs": [
        {
          "name": "stdout",
          "output_type": "stream",
          "text": [
            "-0.024925622654521362\n"
          ]
        }
      ],
      "source": [
        "# Import statsmodels.formula.api\n",
        "import statsmodels.formula.api as smf\n",
        "# Define the regression formula\n",
        "model = smf.ols(formula='diff ~ lag_1', data=df_supervised)\n",
        "# Fit the regression\n",
        "model_fit = model.fit()\n",
        "# Extract the adjusted r-squared\n",
        "regression_adj_rsq = model_fit.rsquared_adj\n",
        "print(regression_adj_rsq)"
      ]
    },
    {
      "cell_type": "markdown",
      "metadata": {
        "id": "OCRYsqdZI9AM"
      },
      "source": [
        "Here we notice a very bad model score. Thus we cannot train the model on only one difference value. Thus, we will be considering other differences over time."
      ]
    },
    {
      "cell_type": "code",
      "execution_count": null,
      "metadata": {
        "colab": {
          "base_uri": "https://localhost:8080/"
        },
        "id": "qrdFUy5TI9AM",
        "outputId": "51850039-044c-46de-eb95-661e9e8f935e"
      },
      "outputs": [
        {
          "name": "stdout",
          "output_type": "stream",
          "text": [
            "0.4989418065220983\n"
          ]
        }
      ],
      "source": [
        "# Define the regression formula\n",
        "model = smf.ols(formula='diff ~ lag_1+lag_2+lag_3+lag_4+lag_5+lag_6+lag_7+lag_8+lag_9+lag_10+lag_11+lag_12', data=df_supervised)\n",
        "# Fit the regression\n",
        "model_fit = model.fit()\n",
        "# Extract the adjusted r-squared\n",
        "regression_adj_rsq = model_fit.rsquared_adj\n",
        "print(regression_adj_rsq)"
      ]
    },
    {
      "cell_type": "markdown",
      "metadata": {
        "id": "AhqxqXvSI9AM"
      },
      "source": [
        "Here, we have the most decent score we could obtain for the modelling."
      ]
    },
    {
      "cell_type": "code",
      "execution_count": null,
      "metadata": {
        "id": "q86E6Of1I9AM"
      },
      "outputs": [],
      "source": [
        "#import MinMaxScaler and create a new dataframe for LSTM model\n",
        "from sklearn.preprocessing import MinMaxScaler\n",
        "df_model = df_supervised.drop(['Unit Sales','Year/Quarter'],axis=1)\n",
        "#split train and test set\n",
        "train_set, test_set = df_model[0:-6].values, df_model[-6:].values   #taken 20% of our dataset as the test dataset"
      ]
    },
    {
      "cell_type": "code",
      "execution_count": null,
      "metadata": {
        "id": "kQ1ZqptLI9AN"
      },
      "outputs": [],
      "source": [
        "#apply Min Max Scaler\n",
        "scaler = MinMaxScaler(feature_range=(-1, 1))\n",
        "scaler = scaler.fit(train_set)\n",
        "# reshape training set\n",
        "train_set = train_set.reshape(train_set.shape[0], train_set.shape[1])\n",
        "train_set_scaled = scaler.transform(train_set)\n",
        "# reshape test set\n",
        "test_set = test_set.reshape(test_set.shape[0], test_set.shape[1])\n",
        "test_set_scaled = scaler.transform(test_set)"
      ]
    },
    {
      "cell_type": "code",
      "execution_count": null,
      "metadata": {
        "id": "XpeB67GxI9AN"
      },
      "outputs": [],
      "source": [
        "X_train, y_train = train_set_scaled[:, 1:], train_set_scaled[:, 0:1]\n",
        "X_train = X_train.reshape(X_train.shape[0], 1, X_train.shape[1])\n",
        "X_test, y_test = test_set_scaled[:, 1:], test_set_scaled[:, 0:1]\n",
        "X_test = X_test.reshape(X_test.shape[0], 1, X_test.shape[1])"
      ]
    },
    {
      "cell_type": "code",
      "execution_count": null,
      "metadata": {
        "colab": {
          "base_uri": "https://localhost:8080/"
        },
        "id": "uD9RPiNqI9AN",
        "outputId": "abed95e2-eb34-4065-bddb-fefaead5f378"
      },
      "outputs": [
        {
          "name": "stdout",
          "output_type": "stream",
          "text": [
            "Epoch 1/100\n",
            "24/24 [==============================] - 2s 3ms/step - loss: 0.1699 - mean_squared_error: 0.1699 - mean_absolute_error: 0.2582 - mean_absolute_percentage_error: 483.8456 - categorical_accuracy: 1.0000\n",
            "Epoch 2/100\n",
            "24/24 [==============================] - 0s 3ms/step - loss: 0.1654 - mean_squared_error: 0.1654 - mean_absolute_error: 0.2600 - mean_absolute_percentage_error: 437.6318 - categorical_accuracy: 1.0000\n",
            "Epoch 3/100\n",
            "24/24 [==============================] - 0s 3ms/step - loss: 0.1613 - mean_squared_error: 0.1613 - mean_absolute_error: 0.2564 - mean_absolute_percentage_error: 398.2573 - categorical_accuracy: 1.0000\n",
            "Epoch 4/100\n",
            "24/24 [==============================] - 0s 3ms/step - loss: 0.1576 - mean_squared_error: 0.1576 - mean_absolute_error: 0.2557 - mean_absolute_percentage_error: 385.3551 - categorical_accuracy: 1.0000\n",
            "Epoch 5/100\n",
            "24/24 [==============================] - 0s 3ms/step - loss: 0.1541 - mean_squared_error: 0.1541 - mean_absolute_error: 0.2549 - mean_absolute_percentage_error: 377.1285 - categorical_accuracy: 1.0000\n",
            "Epoch 6/100\n",
            "24/24 [==============================] - 0s 4ms/step - loss: 0.1509 - mean_squared_error: 0.1509 - mean_absolute_error: 0.2538 - mean_absolute_percentage_error: 371.8442 - categorical_accuracy: 1.0000\n",
            "Epoch 7/100\n",
            "24/24 [==============================] - 0s 2ms/step - loss: 0.1478 - mean_squared_error: 0.1478 - mean_absolute_error: 0.2526 - mean_absolute_percentage_error: 368.4928 - categorical_accuracy: 1.0000\n",
            "Epoch 8/100\n",
            "24/24 [==============================] - 0s 3ms/step - loss: 0.1448 - mean_squared_error: 0.1448 - mean_absolute_error: 0.2514 - mean_absolute_percentage_error: 366.4488 - categorical_accuracy: 1.0000\n",
            "Epoch 9/100\n",
            "24/24 [==============================] - 0s 3ms/step - loss: 0.1419 - mean_squared_error: 0.1419 - mean_absolute_error: 0.2500 - mean_absolute_percentage_error: 365.3177 - categorical_accuracy: 1.0000\n",
            "Epoch 10/100\n",
            "24/24 [==============================] - 0s 2ms/step - loss: 0.1391 - mean_squared_error: 0.1391 - mean_absolute_error: 0.2486 - mean_absolute_percentage_error: 364.8478 - categorical_accuracy: 1.0000\n",
            "Epoch 11/100\n",
            "24/24 [==============================] - 0s 2ms/step - loss: 0.1363 - mean_squared_error: 0.1363 - mean_absolute_error: 0.2471 - mean_absolute_percentage_error: 364.8752 - categorical_accuracy: 1.0000\n",
            "Epoch 12/100\n",
            "24/24 [==============================] - 0s 2ms/step - loss: 0.1336 - mean_squared_error: 0.1336 - mean_absolute_error: 0.2456 - mean_absolute_percentage_error: 365.2944 - categorical_accuracy: 1.0000\n",
            "Epoch 13/100\n",
            "24/24 [==============================] - 0s 3ms/step - loss: 0.1310 - mean_squared_error: 0.1310 - mean_absolute_error: 0.2439 - mean_absolute_percentage_error: 366.0349 - categorical_accuracy: 1.0000\n",
            "Epoch 14/100\n",
            "24/24 [==============================] - 0s 2ms/step - loss: 0.1283 - mean_squared_error: 0.1283 - mean_absolute_error: 0.2422 - mean_absolute_percentage_error: 367.0531 - categorical_accuracy: 1.0000\n",
            "Epoch 15/100\n",
            "24/24 [==============================] - 0s 3ms/step - loss: 0.1257 - mean_squared_error: 0.1257 - mean_absolute_error: 0.2404 - mean_absolute_percentage_error: 368.3208 - categorical_accuracy: 1.0000\n",
            "Epoch 16/100\n",
            "24/24 [==============================] - 0s 3ms/step - loss: 0.1231 - mean_squared_error: 0.1231 - mean_absolute_error: 0.2385 - mean_absolute_percentage_error: 369.8243 - categorical_accuracy: 1.0000\n",
            "Epoch 17/100\n",
            "24/24 [==============================] - 0s 3ms/step - loss: 0.1205 - mean_squared_error: 0.1205 - mean_absolute_error: 0.2365 - mean_absolute_percentage_error: 371.5586 - categorical_accuracy: 1.0000\n",
            "Epoch 18/100\n",
            "24/24 [==============================] - 0s 3ms/step - loss: 0.1178 - mean_squared_error: 0.1178 - mean_absolute_error: 0.2345 - mean_absolute_percentage_error: 373.5268 - categorical_accuracy: 1.0000\n",
            "Epoch 19/100\n",
            "24/24 [==============================] - 0s 3ms/step - loss: 0.1152 - mean_squared_error: 0.1152 - mean_absolute_error: 0.2323 - mean_absolute_percentage_error: 375.7377 - categorical_accuracy: 1.0000\n",
            "Epoch 20/100\n",
            "24/24 [==============================] - 0s 3ms/step - loss: 0.1126 - mean_squared_error: 0.1126 - mean_absolute_error: 0.2300 - mean_absolute_percentage_error: 378.2055 - categorical_accuracy: 1.0000\n",
            "Epoch 21/100\n",
            "24/24 [==============================] - 0s 2ms/step - loss: 0.1100 - mean_squared_error: 0.1100 - mean_absolute_error: 0.2277 - mean_absolute_percentage_error: 380.9464 - categorical_accuracy: 1.0000\n",
            "Epoch 22/100\n",
            "24/24 [==============================] - 0s 3ms/step - loss: 0.1073 - mean_squared_error: 0.1073 - mean_absolute_error: 0.2252 - mean_absolute_percentage_error: 383.9795 - categorical_accuracy: 1.0000\n",
            "Epoch 23/100\n",
            "24/24 [==============================] - 0s 3ms/step - loss: 0.1046 - mean_squared_error: 0.1046 - mean_absolute_error: 0.2228 - mean_absolute_percentage_error: 387.4826 - categorical_accuracy: 1.0000\n",
            "Epoch 24/100\n",
            "24/24 [==============================] - 0s 2ms/step - loss: 0.1019 - mean_squared_error: 0.1019 - mean_absolute_error: 0.2203 - mean_absolute_percentage_error: 391.4249 - categorical_accuracy: 1.0000\n",
            "Epoch 25/100\n",
            "24/24 [==============================] - 0s 3ms/step - loss: 0.0992 - mean_squared_error: 0.0992 - mean_absolute_error: 0.2177 - mean_absolute_percentage_error: 395.7218 - categorical_accuracy: 1.0000\n",
            "Epoch 26/100\n",
            "24/24 [==============================] - 0s 3ms/step - loss: 0.0965 - mean_squared_error: 0.0965 - mean_absolute_error: 0.2151 - mean_absolute_percentage_error: 400.3756 - categorical_accuracy: 1.0000\n",
            "Epoch 27/100\n",
            "24/24 [==============================] - 0s 2ms/step - loss: 0.0938 - mean_squared_error: 0.0938 - mean_absolute_error: 0.2124 - mean_absolute_percentage_error: 405.3803 - categorical_accuracy: 1.0000\n",
            "Epoch 28/100\n",
            "24/24 [==============================] - 0s 3ms/step - loss: 0.0910 - mean_squared_error: 0.0910 - mean_absolute_error: 0.2097 - mean_absolute_percentage_error: 410.7210 - categorical_accuracy: 1.0000\n",
            "Epoch 29/100\n",
            "24/24 [==============================] - 0s 2ms/step - loss: 0.0883 - mean_squared_error: 0.0883 - mean_absolute_error: 0.2069 - mean_absolute_percentage_error: 416.3728 - categorical_accuracy: 1.0000\n",
            "Epoch 30/100\n",
            "24/24 [==============================] - 0s 2ms/step - loss: 0.0856 - mean_squared_error: 0.0856 - mean_absolute_error: 0.2041 - mean_absolute_percentage_error: 422.3860 - categorical_accuracy: 1.0000\n",
            "Epoch 31/100\n",
            "24/24 [==============================] - 0s 2ms/step - loss: 0.0829 - mean_squared_error: 0.0829 - mean_absolute_error: 0.2014 - mean_absolute_percentage_error: 428.9003 - categorical_accuracy: 1.0000\n",
            "Epoch 32/100\n",
            "24/24 [==============================] - 0s 2ms/step - loss: 0.0802 - mean_squared_error: 0.0802 - mean_absolute_error: 0.1987 - mean_absolute_percentage_error: 435.5740 - categorical_accuracy: 1.0000\n",
            "Epoch 33/100\n",
            "24/24 [==============================] - 0s 2ms/step - loss: 0.0776 - mean_squared_error: 0.0776 - mean_absolute_error: 0.1960 - mean_absolute_percentage_error: 442.3424 - categorical_accuracy: 1.0000\n",
            "Epoch 34/100\n",
            "24/24 [==============================] - 0s 3ms/step - loss: 0.0750 - mean_squared_error: 0.0750 - mean_absolute_error: 0.1932 - mean_absolute_percentage_error: 449.1345 - categorical_accuracy: 1.0000\n",
            "Epoch 35/100\n",
            "24/24 [==============================] - 0s 3ms/step - loss: 0.0724 - mean_squared_error: 0.0724 - mean_absolute_error: 0.1904 - mean_absolute_percentage_error: 455.8756 - categorical_accuracy: 1.0000\n",
            "Epoch 36/100\n",
            "24/24 [==============================] - 0s 3ms/step - loss: 0.0700 - mean_squared_error: 0.0700 - mean_absolute_error: 0.1877 - mean_absolute_percentage_error: 462.4906 - categorical_accuracy: 1.0000\n",
            "Epoch 37/100\n",
            "24/24 [==============================] - 0s 3ms/step - loss: 0.0676 - mean_squared_error: 0.0676 - mean_absolute_error: 0.1849 - mean_absolute_percentage_error: 468.9055 - categorical_accuracy: 1.0000\n",
            "Epoch 38/100\n",
            "24/24 [==============================] - 0s 3ms/step - loss: 0.0652 - mean_squared_error: 0.0652 - mean_absolute_error: 0.1821 - mean_absolute_percentage_error: 475.0485 - categorical_accuracy: 1.0000\n",
            "Epoch 39/100\n",
            "24/24 [==============================] - 0s 3ms/step - loss: 0.0630 - mean_squared_error: 0.0630 - mean_absolute_error: 0.1793 - mean_absolute_percentage_error: 480.8543 - categorical_accuracy: 1.0000\n",
            "Epoch 40/100\n",
            "24/24 [==============================] - 0s 2ms/step - loss: 0.0608 - mean_squared_error: 0.0608 - mean_absolute_error: 0.1765 - mean_absolute_percentage_error: 486.2628 - categorical_accuracy: 1.0000\n",
            "Epoch 41/100\n",
            "24/24 [==============================] - 0s 3ms/step - loss: 0.0587 - mean_squared_error: 0.0587 - mean_absolute_error: 0.1738 - mean_absolute_percentage_error: 491.2217 - categorical_accuracy: 1.0000\n",
            "Epoch 42/100\n",
            "24/24 [==============================] - 0s 3ms/step - loss: 0.0567 - mean_squared_error: 0.0567 - mean_absolute_error: 0.1713 - mean_absolute_percentage_error: 496.0841 - categorical_accuracy: 1.0000\n",
            "Epoch 43/100\n",
            "24/24 [==============================] - 0s 3ms/step - loss: 0.0547 - mean_squared_error: 0.0547 - mean_absolute_error: 0.1689 - mean_absolute_percentage_error: 500.6987 - categorical_accuracy: 1.0000\n",
            "Epoch 44/100\n",
            "24/24 [==============================] - 0s 2ms/step - loss: 0.0529 - mean_squared_error: 0.0529 - mean_absolute_error: 0.1666 - mean_absolute_percentage_error: 504.7547 - categorical_accuracy: 1.0000\n",
            "Epoch 45/100\n",
            "24/24 [==============================] - 0s 3ms/step - loss: 0.0511 - mean_squared_error: 0.0511 - mean_absolute_error: 0.1645 - mean_absolute_percentage_error: 508.2746 - categorical_accuracy: 1.0000\n",
            "Epoch 46/100\n",
            "24/24 [==============================] - 0s 3ms/step - loss: 0.0494 - mean_squared_error: 0.0494 - mean_absolute_error: 0.1625 - mean_absolute_percentage_error: 511.2140 - categorical_accuracy: 1.0000\n",
            "Epoch 47/100\n",
            "24/24 [==============================] - 0s 3ms/step - loss: 0.0478 - mean_squared_error: 0.0478 - mean_absolute_error: 0.1605 - mean_absolute_percentage_error: 513.5610 - categorical_accuracy: 1.0000\n",
            "Epoch 48/100\n",
            "24/24 [==============================] - 0s 3ms/step - loss: 0.0463 - mean_squared_error: 0.0463 - mean_absolute_error: 0.1585 - mean_absolute_percentage_error: 515.3213 - categorical_accuracy: 1.0000\n",
            "Epoch 49/100\n",
            "24/24 [==============================] - 0s 3ms/step - loss: 0.0449 - mean_squared_error: 0.0449 - mean_absolute_error: 0.1565 - mean_absolute_percentage_error: 516.5083 - categorical_accuracy: 1.0000\n",
            "Epoch 50/100\n",
            "24/24 [==============================] - 0s 3ms/step - loss: 0.0435 - mean_squared_error: 0.0435 - mean_absolute_error: 0.1544 - mean_absolute_percentage_error: 517.1412 - categorical_accuracy: 1.0000\n",
            "Epoch 51/100\n",
            "24/24 [==============================] - 0s 3ms/step - loss: 0.0422 - mean_squared_error: 0.0422 - mean_absolute_error: 0.1524 - mean_absolute_percentage_error: 517.2441 - categorical_accuracy: 1.0000\n",
            "Epoch 52/100\n",
            "24/24 [==============================] - 0s 3ms/step - loss: 0.0410 - mean_squared_error: 0.0410 - mean_absolute_error: 0.1504 - mean_absolute_percentage_error: 516.8470 - categorical_accuracy: 1.0000\n",
            "Epoch 53/100\n",
            "24/24 [==============================] - 0s 3ms/step - loss: 0.0398 - mean_squared_error: 0.0398 - mean_absolute_error: 0.1484 - mean_absolute_percentage_error: 515.9825 - categorical_accuracy: 1.0000\n",
            "Epoch 54/100\n",
            "24/24 [==============================] - 0s 2ms/step - loss: 0.0387 - mean_squared_error: 0.0387 - mean_absolute_error: 0.1464 - mean_absolute_percentage_error: 514.6870 - categorical_accuracy: 1.0000\n",
            "Epoch 55/100\n",
            "24/24 [==============================] - 0s 3ms/step - loss: 0.0377 - mean_squared_error: 0.0377 - mean_absolute_error: 0.1444 - mean_absolute_percentage_error: 512.9976 - categorical_accuracy: 1.0000\n",
            "Epoch 56/100\n",
            "24/24 [==============================] - 0s 3ms/step - loss: 0.0367 - mean_squared_error: 0.0367 - mean_absolute_error: 0.1425 - mean_absolute_percentage_error: 510.9536 - categorical_accuracy: 1.0000\n",
            "Epoch 57/100\n",
            "24/24 [==============================] - 0s 3ms/step - loss: 0.0358 - mean_squared_error: 0.0358 - mean_absolute_error: 0.1405 - mean_absolute_percentage_error: 508.5942 - categorical_accuracy: 1.0000\n",
            "Epoch 58/100\n",
            "24/24 [==============================] - 0s 3ms/step - loss: 0.0349 - mean_squared_error: 0.0349 - mean_absolute_error: 0.1386 - mean_absolute_percentage_error: 505.9578 - categorical_accuracy: 1.0000\n",
            "Epoch 59/100\n",
            "24/24 [==============================] - 0s 3ms/step - loss: 0.0341 - mean_squared_error: 0.0341 - mean_absolute_error: 0.1367 - mean_absolute_percentage_error: 503.0824 - categorical_accuracy: 1.0000\n",
            "Epoch 60/100\n",
            "24/24 [==============================] - 0s 3ms/step - loss: 0.0334 - mean_squared_error: 0.0334 - mean_absolute_error: 0.1348 - mean_absolute_percentage_error: 500.0044 - categorical_accuracy: 1.0000\n",
            "Epoch 61/100\n",
            "24/24 [==============================] - 0s 4ms/step - loss: 0.0326 - mean_squared_error: 0.0326 - mean_absolute_error: 0.1330 - mean_absolute_percentage_error: 496.7574 - categorical_accuracy: 1.0000\n",
            "Epoch 62/100\n",
            "24/24 [==============================] - 0s 3ms/step - loss: 0.0319 - mean_squared_error: 0.0319 - mean_absolute_error: 0.1312 - mean_absolute_percentage_error: 493.3743 - categorical_accuracy: 1.0000\n",
            "Epoch 63/100\n",
            "24/24 [==============================] - 0s 2ms/step - loss: 0.0313 - mean_squared_error: 0.0313 - mean_absolute_error: 0.1294 - mean_absolute_percentage_error: 489.8825 - categorical_accuracy: 1.0000\n",
            "Epoch 64/100\n",
            "24/24 [==============================] - 0s 3ms/step - loss: 0.0307 - mean_squared_error: 0.0307 - mean_absolute_error: 0.1276 - mean_absolute_percentage_error: 486.3095 - categorical_accuracy: 1.0000\n",
            "Epoch 65/100\n",
            "24/24 [==============================] - 0s 3ms/step - loss: 0.0301 - mean_squared_error: 0.0301 - mean_absolute_error: 0.1259 - mean_absolute_percentage_error: 482.6783 - categorical_accuracy: 1.0000\n",
            "Epoch 66/100\n",
            "24/24 [==============================] - 0s 3ms/step - loss: 0.0296 - mean_squared_error: 0.0296 - mean_absolute_error: 0.1242 - mean_absolute_percentage_error: 479.0095 - categorical_accuracy: 1.0000\n",
            "Epoch 67/100\n",
            "24/24 [==============================] - 0s 2ms/step - loss: 0.0291 - mean_squared_error: 0.0291 - mean_absolute_error: 0.1226 - mean_absolute_percentage_error: 475.3209 - categorical_accuracy: 1.0000\n",
            "Epoch 68/100\n",
            "24/24 [==============================] - 0s 3ms/step - loss: 0.0286 - mean_squared_error: 0.0286 - mean_absolute_error: 0.1210 - mean_absolute_percentage_error: 471.6267 - categorical_accuracy: 1.0000\n",
            "Epoch 69/100\n",
            "24/24 [==============================] - 0s 3ms/step - loss: 0.0281 - mean_squared_error: 0.0281 - mean_absolute_error: 0.1194 - mean_absolute_percentage_error: 467.9401 - categorical_accuracy: 1.0000\n",
            "Epoch 70/100\n",
            "24/24 [==============================] - 0s 2ms/step - loss: 0.0277 - mean_squared_error: 0.0277 - mean_absolute_error: 0.1179 - mean_absolute_percentage_error: 464.2703 - categorical_accuracy: 1.0000\n",
            "Epoch 71/100\n",
            "24/24 [==============================] - 0s 2ms/step - loss: 0.0273 - mean_squared_error: 0.0273 - mean_absolute_error: 0.1165 - mean_absolute_percentage_error: 460.6262 - categorical_accuracy: 1.0000   \n",
            "Epoch 72/100\n",
            "24/24 [==============================] - 0s 3ms/step - loss: 0.0269 - mean_squared_error: 0.0269 - mean_absolute_error: 0.1150 - mean_absolute_percentage_error: 457.0127 - categorical_accuracy: 1.0000\n",
            "Epoch 73/100\n",
            "24/24 [==============================] - 0s 3ms/step - loss: 0.0265 - mean_squared_error: 0.0265 - mean_absolute_error: 0.1136 - mean_absolute_percentage_error: 453.4346 - categorical_accuracy: 1.0000\n",
            "Epoch 74/100\n",
            "24/24 [==============================] - 0s 3ms/step - loss: 0.0262 - mean_squared_error: 0.0262 - mean_absolute_error: 0.1123 - mean_absolute_percentage_error: 449.8951 - categorical_accuracy: 1.0000\n",
            "Epoch 75/100\n",
            "24/24 [==============================] - 0s 3ms/step - loss: 0.0259 - mean_squared_error: 0.0259 - mean_absolute_error: 0.1111 - mean_absolute_percentage_error: 446.4078 - categorical_accuracy: 1.0000\n",
            "Epoch 76/100\n",
            "24/24 [==============================] - 0s 3ms/step - loss: 0.0255 - mean_squared_error: 0.0255 - mean_absolute_error: 0.1102 - mean_absolute_percentage_error: 442.9763 - categorical_accuracy: 1.0000\n",
            "Epoch 77/100\n",
            "24/24 [==============================] - 0s 3ms/step - loss: 0.0252 - mean_squared_error: 0.0252 - mean_absolute_error: 0.1092 - mean_absolute_percentage_error: 439.5912 - categorical_accuracy: 1.0000\n",
            "Epoch 78/100\n",
            "24/24 [==============================] - 0s 3ms/step - loss: 0.0249 - mean_squared_error: 0.0249 - mean_absolute_error: 0.1084 - mean_absolute_percentage_error: 436.2667 - categorical_accuracy: 1.0000\n",
            "Epoch 79/100\n",
            "24/24 [==============================] - 0s 3ms/step - loss: 0.0247 - mean_squared_error: 0.0247 - mean_absolute_error: 0.1077 - mean_absolute_percentage_error: 433.1161 - categorical_accuracy: 1.0000\n",
            "Epoch 80/100\n",
            "24/24 [==============================] - 0s 2ms/step - loss: 0.0244 - mean_squared_error: 0.0244 - mean_absolute_error: 0.1071 - mean_absolute_percentage_error: 429.9955 - categorical_accuracy: 1.0000\n",
            "Epoch 81/100\n",
            "24/24 [==============================] - 0s 3ms/step - loss: 0.0241 - mean_squared_error: 0.0241 - mean_absolute_error: 0.1065 - mean_absolute_percentage_error: 426.8924 - categorical_accuracy: 1.0000\n",
            "Epoch 82/100\n",
            "24/24 [==============================] - 0s 3ms/step - loss: 0.0239 - mean_squared_error: 0.0239 - mean_absolute_error: 0.1059 - mean_absolute_percentage_error: 423.8042 - categorical_accuracy: 1.0000\n",
            "Epoch 83/100\n",
            "24/24 [==============================] - 0s 3ms/step - loss: 0.0236 - mean_squared_error: 0.0236 - mean_absolute_error: 0.1053 - mean_absolute_percentage_error: 420.7297 - categorical_accuracy: 1.0000\n",
            "Epoch 84/100\n",
            "24/24 [==============================] - 0s 3ms/step - loss: 0.0234 - mean_squared_error: 0.0234 - mean_absolute_error: 0.1046 - mean_absolute_percentage_error: 417.6650 - categorical_accuracy: 1.0000\n",
            "Epoch 85/100\n",
            "24/24 [==============================] - 0s 3ms/step - loss: 0.0232 - mean_squared_error: 0.0232 - mean_absolute_error: 0.1041 - mean_absolute_percentage_error: 414.6599 - categorical_accuracy: 1.0000\n",
            "Epoch 86/100\n",
            "24/24 [==============================] - 0s 3ms/step - loss: 0.0229 - mean_squared_error: 0.0229 - mean_absolute_error: 0.1036 - mean_absolute_percentage_error: 411.7538 - categorical_accuracy: 1.0000\n",
            "Epoch 87/100\n",
            "24/24 [==============================] - 0s 3ms/step - loss: 0.0227 - mean_squared_error: 0.0227 - mean_absolute_error: 0.1032 - mean_absolute_percentage_error: 408.9487 - categorical_accuracy: 1.0000\n",
            "Epoch 88/100\n",
            "24/24 [==============================] - 0s 3ms/step - loss: 0.0225 - mean_squared_error: 0.0225 - mean_absolute_error: 0.1029 - mean_absolute_percentage_error: 406.1507 - categorical_accuracy: 1.0000\n",
            "Epoch 89/100\n",
            "24/24 [==============================] - 0s 3ms/step - loss: 0.0223 - mean_squared_error: 0.0223 - mean_absolute_error: 0.1025 - mean_absolute_percentage_error: 403.3419 - categorical_accuracy: 1.0000\n",
            "Epoch 90/100\n",
            "24/24 [==============================] - 0s 3ms/step - loss: 0.0221 - mean_squared_error: 0.0221 - mean_absolute_error: 0.1021 - mean_absolute_percentage_error: 400.5202 - categorical_accuracy: 1.0000\n",
            "Epoch 91/100\n",
            "24/24 [==============================] - 0s 3ms/step - loss: 0.0219 - mean_squared_error: 0.0219 - mean_absolute_error: 0.1017 - mean_absolute_percentage_error: 397.6852 - categorical_accuracy: 1.0000\n",
            "Epoch 92/100\n",
            "24/24 [==============================] - 0s 3ms/step - loss: 0.0217 - mean_squared_error: 0.0217 - mean_absolute_error: 0.1013 - mean_absolute_percentage_error: 394.8350 - categorical_accuracy: 1.0000\n",
            "Epoch 93/100\n",
            "24/24 [==============================] - 0s 3ms/step - loss: 0.0215 - mean_squared_error: 0.0215 - mean_absolute_error: 0.1009 - mean_absolute_percentage_error: 391.9683 - categorical_accuracy: 1.0000\n",
            "Epoch 94/100\n",
            "24/24 [==============================] - 0s 2ms/step - loss: 0.0213 - mean_squared_error: 0.0213 - mean_absolute_error: 0.1005 - mean_absolute_percentage_error: 389.0851 - categorical_accuracy: 1.0000\n",
            "Epoch 95/100\n",
            "24/24 [==============================] - 0s 3ms/step - loss: 0.0211 - mean_squared_error: 0.0211 - mean_absolute_error: 0.1001 - mean_absolute_percentage_error: 386.1850 - categorical_accuracy: 1.0000\n",
            "Epoch 96/100\n",
            "24/24 [==============================] - 0s 3ms/step - loss: 0.0209 - mean_squared_error: 0.0209 - mean_absolute_error: 0.0997 - mean_absolute_percentage_error: 383.2664 - categorical_accuracy: 1.0000\n",
            "Epoch 97/100\n",
            "24/24 [==============================] - 0s 3ms/step - loss: 0.0207 - mean_squared_error: 0.0207 - mean_absolute_error: 0.0993 - mean_absolute_percentage_error: 380.4612 - categorical_accuracy: 1.0000\n",
            "Epoch 98/100\n",
            "24/24 [==============================] - 0s 3ms/step - loss: 0.0205 - mean_squared_error: 0.0205 - mean_absolute_error: 0.0990 - mean_absolute_percentage_error: 377.6819 - categorical_accuracy: 1.0000\n",
            "Epoch 99/100\n",
            "24/24 [==============================] - 0s 3ms/step - loss: 0.0203 - mean_squared_error: 0.0203 - mean_absolute_error: 0.0986 - mean_absolute_percentage_error: 374.8823 - categorical_accuracy: 1.0000\n",
            "Epoch 100/100\n",
            "24/24 [==============================] - 0s 3ms/step - loss: 0.0201 - mean_squared_error: 0.0201 - mean_absolute_error: 0.0982 - mean_absolute_percentage_error: 372.0629 - categorical_accuracy: 1.0000\n",
            "1/1 [==============================] - 1s 581ms/step - loss: 0.2161 - mean_squared_error: 0.2161 - mean_absolute_error: 0.4387 - mean_absolute_percentage_error: 436.7224 - categorical_accuracy: 1.0000\n",
            "Loss= 0.21608169376850128 \n",
            " Accuracy= 0.21608169376850128 \n",
            " f1_score= 0.4386543333530426 \n",
            " Precision= 436.7223815917969 \n",
            " Recall= 1.0\n"
          ]
        }
      ],
      "source": [
        "#deep learning models\n",
        "model = Sequential()\n",
        "model.add(LSTM(4, batch_input_shape=(1, X_train.shape[1], X_train.shape[2]), stateful=True))\n",
        "model.add(Dense(1))\n",
        "model.compile(loss='mean_squared_error', optimizer='adam',metrics=[metrics.mean_squared_error, \n",
        "                                                                   metrics.mean_absolute_error, \n",
        "                                                                   metrics.mean_absolute_percentage_error,\n",
        "                                                                   metrics.categorical_accuracy])\n",
        "\n",
        "history=model.fit(X_train, y_train,epochs=100, batch_size=1, shuffle=False)\n",
        "\n",
        "(loss, accuracy, f1_score, precision, recall) = model.evaluate(X_test, y_test, verbose=1)\n",
        "print(\"Loss=\",loss,\"\\n\",\"Accuracy=\", accuracy,\"\\n\",\"f1_score=\", f1_score,\"\\n\",\"Precision=\", precision,\"\\n\",\"Recall=\", recall)"
      ]
    },
    {
      "cell_type": "code",
      "execution_count": null,
      "metadata": {
        "id": "fCrEFq1-I9AO"
      },
      "outputs": [],
      "source": [
        "y_pred = model.predict(X_test,batch_size=1)"
      ]
    },
    {
      "cell_type": "code",
      "execution_count": null,
      "metadata": {
        "colab": {
          "base_uri": "https://localhost:8080/"
        },
        "id": "RijHI1PGI9AO",
        "outputId": "a91db650-e913-41eb-bacb-e2f6f6160a6d"
      },
      "outputs": [
        {
          "name": "stdout",
          "output_type": "stream",
          "text": [
            "[[ 0.24703762 -0.67127224  0.28540456 -0.04617121  0.72905361 -1.63528179\n",
            "  -0.20220427  1.68345014  2.28828728 -2.58085192  0.10522099  0.15970089\n",
            "  -0.79516624]]\n",
            "[[-0.42081806 -0.03567717 -0.67127224  0.28540456 -0.04617121  0.64298996\n",
            "  -1.63528179  0.07042254  3.41197748  3.30658299 -2.58085192  0.10522099\n",
            "   0.15970089]]\n",
            "[[-0.63620573  1.15245866 -0.03567717 -0.67127224  0.28540456 -0.37847797\n",
            "   0.64298996 -1.8523735   0.7599284   5.31846709  3.30658299 -2.58085192\n",
            "   0.10522099]]\n",
            "[[-0.12820724  0.95674095  1.15245866 -0.03567717 -0.67127224  0.05841982\n",
            "  -0.37847797  1.20444082 -2.40142447  0.57016958  5.31846709  3.30658299\n",
            "  -2.58085192]]\n",
            "[[ 0.8871156   0.12001437  0.95674095  1.15245866 -0.03567717 -1.20213665\n",
            "   0.05841982 -0.16608832  2.62441735 -5.08999866  0.57016958  5.31846709\n",
            "   3.30658299]]\n",
            "[[ 0.45974544  0.3243531   0.12001437  0.95674095  1.15245866 -0.3646506\n",
            "  -1.20213665  0.42010841  0.37107059  3.90839899 -5.08999866  0.57016958\n",
            "   5.31846709]]\n"
          ]
        }
      ],
      "source": [
        "#reshape y_pred\n",
        "y_pred = y_pred.reshape(y_pred.shape[0], 1, y_pred.shape[1])\n",
        "#rebuild test set for inverse transform\n",
        "pred_test_set=[]\n",
        "for index in range(0,len(y_pred)):\n",
        "    print(np.concatenate([y_pred[index],X_test[index]],axis=1))\n",
        "    pred_test_set.append(np.concatenate([y_pred[index],X_test[index]],axis=1))\n",
        "#reshape pred_test_set\n",
        "pred_test_set = np.array(pred_test_set)\n",
        "pred_test_set = pred_test_set.reshape(pred_test_set.shape[0], pred_test_set.shape[2])\n",
        "#inverse transform\n",
        "pred_test_set_inverted = scaler.inverse_transform(pred_test_set)"
      ]
    },
    {
      "cell_type": "code",
      "execution_count": null,
      "metadata": {
        "colab": {
          "base_uri": "https://localhost:8080/",
          "height": 238
        },
        "id": "Er-o0zZQI9AO",
        "outputId": "e9a4ef79-4c20-4920-8547-c1e26ddf4c9b"
      },
      "outputs": [
        {
          "data": {
            "text/html": [
              "<div>\n",
              "<style scoped>\n",
              "    .dataframe tbody tr th:only-of-type {\n",
              "        vertical-align: middle;\n",
              "    }\n",
              "\n",
              "    .dataframe tbody tr th {\n",
              "        vertical-align: top;\n",
              "    }\n",
              "\n",
              "    .dataframe thead th {\n",
              "        text-align: right;\n",
              "    }\n",
              "</style>\n",
              "<table border=\"1\" class=\"dataframe\">\n",
              "  <thead>\n",
              "    <tr style=\"text-align: right;\">\n",
              "      <th></th>\n",
              "      <th>pred_value</th>\n",
              "      <th>date</th>\n",
              "    </tr>\n",
              "  </thead>\n",
              "  <tbody>\n",
              "    <tr>\n",
              "      <th>0</th>\n",
              "      <td>93696</td>\n",
              "      <td>2020/Q2</td>\n",
              "    </tr>\n",
              "    <tr>\n",
              "      <th>1</th>\n",
              "      <td>70062</td>\n",
              "      <td>2020/Q3</td>\n",
              "    </tr>\n",
              "    <tr>\n",
              "      <th>2</th>\n",
              "      <td>110369</td>\n",
              "      <td>2020/Q4</td>\n",
              "    </tr>\n",
              "    <tr>\n",
              "      <th>3</th>\n",
              "      <td>171242</td>\n",
              "      <td>2021/Q1</td>\n",
              "    </tr>\n",
              "    <tr>\n",
              "      <th>4</th>\n",
              "      <td>219277</td>\n",
              "      <td>2021/Q2</td>\n",
              "    </tr>\n",
              "    <tr>\n",
              "      <th>5</th>\n",
              "      <td>219047</td>\n",
              "      <td>2021/Q3</td>\n",
              "    </tr>\n",
              "  </tbody>\n",
              "</table>\n",
              "</div>"
            ],
            "text/plain": [
              "   pred_value     date\n",
              "0       93696  2020/Q2\n",
              "1       70062  2020/Q3\n",
              "2      110369  2020/Q4\n",
              "3      171242  2021/Q1\n",
              "4      219277  2021/Q2\n",
              "5      219047  2021/Q3"
            ]
          },
          "execution_count": 71,
          "metadata": {},
          "output_type": "execute_result"
        }
      ],
      "source": [
        "#create dataframe that shows the predicted sales\n",
        "result_list = []\n",
        "sales_dates = list(df_sales[-7:][\"Year/Quarter\"])\n",
        "act_sales = list(df_sales[-7:][\"Unit Sales\"])\n",
        "for index in range(0,len(pred_test_set_inverted)):\n",
        "    result_dict = {}\n",
        "    result_dict['pred_value'] = int(pred_test_set_inverted[index][0] + act_sales[index])\n",
        "    result_dict['date'] = sales_dates[index+1]\n",
        "    result_list.append(result_dict)\n",
        "df_result = pd.DataFrame(result_list)\n",
        "\n",
        "df_result"
      ]
    },
    {
      "cell_type": "markdown",
      "metadata": {
        "id": "JWxs_gFoI9AP"
      },
      "source": [
        "From the modelling above, we have created a time series prediction model and obtained results. However, due to the low modelling score ~43%, we do not consider this to be accurate. One possibility for the low accuracy is limited datasets and the unevenness obtained due to the sudden rise in the sales of Tesla, along with the effects of the COVID- 19 pandemic in the year 2020. Thus, we will not be using this model for our refrence. "
      ]
    },
    {
      "cell_type": "markdown",
      "metadata": {
        "id": "NE5cimthI9AP"
      },
      "source": [
        "<b> B) Production Modelling </b>\n",
        "\n",
        "Our goal for this model is to obtain accurate predictions regarding the capacity of tesla for producing vehicles. This was based on our purpose for calculating the difference in the production output and the expected demand of Tesla in the market. For this modelling, we will use regression models to obtain the best fit for predicting this output. Feature selection will be done on the basis of their correlations and p-value statistical tests, and accuracy for this model will be obtained.\n",
        "\n",
        "Since production depends upon the factors internal to Tesla, we will only consider those features that are associated with Tesla."
      ]
    },
    {
      "cell_type": "code",
      "execution_count": null,
      "metadata": {
        "id": "Ap4zKmZwI9AP"
      },
      "outputs": [],
      "source": [
        "#importing necessary libraries\n",
        "\n",
        "from sklearn.model_selection import train_test_split\n",
        "from sklearn.model_selection import KFold\n",
        "from sklearn.model_selection import GridSearchCV\n",
        "from sklearn.linear_model import Lasso,Ridge,ElasticNet\n",
        "from sklearn.ensemble import RandomForestRegressor,GradientBoostingRegressor \n",
        "from sklearn.metrics import mean_squared_error,accuracy_score\n",
        "from sklearn.preprocessing import MinMaxScaler\n",
        "import warnings\n",
        "warnings.filterwarnings(\"ignore\")\n",
        "\n",
        "import scipy.stats as stats\n",
        "import statsmodels.api as sm\n",
        "from scipy.stats import f_oneway\n",
        "from scipy.stats import chi2_contingency\n",
        "from statsmodels.formula.api import ols\n",
        "from scipy.stats import t"
      ]
    },
    {
      "cell_type": "code",
      "execution_count": null,
      "metadata": {
        "colab": {
          "base_uri": "https://localhost:8080/",
          "height": 347
        },
        "id": "265163u2I9AP",
        "outputId": "92c8c904-5c0d-48b4-d9e2-dd5d88f7b745"
      },
      "outputs": [
        {
          "data": {
            "text/html": [
              "<div>\n",
              "<style scoped>\n",
              "    .dataframe tbody tr th:only-of-type {\n",
              "        vertical-align: middle;\n",
              "    }\n",
              "\n",
              "    .dataframe tbody tr th {\n",
              "        vertical-align: top;\n",
              "    }\n",
              "\n",
              "    .dataframe thead th {\n",
              "        text-align: right;\n",
              "    }\n",
              "</style>\n",
              "<table border=\"1\" class=\"dataframe\">\n",
              "  <thead>\n",
              "    <tr style=\"text-align: right;\">\n",
              "      <th></th>\n",
              "      <th>Date</th>\n",
              "      <th>Total Production (Global)</th>\n",
              "      <th>Total Deliveries (Global)</th>\n",
              "      <th>Solar Deployed (Global)</th>\n",
              "      <th>Storage Deployed (Global)</th>\n",
              "      <th>Open Stocks</th>\n",
              "      <th>High Stocks</th>\n",
              "      <th>Low Stocks</th>\n",
              "      <th>Adj Close Stocks</th>\n",
              "      <th>Volume Stock</th>\n",
              "      <th>Revenues</th>\n",
              "      <th>Operating expenses</th>\n",
              "      <th>Net loss</th>\n",
              "      <th>Total assets</th>\n",
              "      <th>Total Liabilities</th>\n",
              "      <th>Capital expenditures</th>\n",
              "      <th>Cash and Investment</th>\n",
              "    </tr>\n",
              "  </thead>\n",
              "  <tbody>\n",
              "    <tr>\n",
              "      <th>0</th>\n",
              "      <td>2011-03-31</td>\n",
              "      <td>0.0</td>\n",
              "      <td>0.0</td>\n",
              "      <td>0.0</td>\n",
              "      <td>0.0</td>\n",
              "      <td>4.852903</td>\n",
              "      <td>4.938806</td>\n",
              "      <td>4.744710</td>\n",
              "      <td>4.843548</td>\n",
              "      <td>7281202.0</td>\n",
              "      <td>49030.0</td>\n",
              "      <td>65374.0</td>\n",
              "      <td>-48941.0</td>\n",
              "      <td>646155.0</td>\n",
              "      <td>297703.0</td>\n",
              "      <td>-20476.0</td>\n",
              "      <td>100655.0</td>\n",
              "    </tr>\n",
              "    <tr>\n",
              "      <th>1</th>\n",
              "      <td>2011-06-30</td>\n",
              "      <td>0.0</td>\n",
              "      <td>0.0</td>\n",
              "      <td>0.0</td>\n",
              "      <td>0.0</td>\n",
              "      <td>5.472635</td>\n",
              "      <td>5.575397</td>\n",
              "      <td>5.337683</td>\n",
              "      <td>5.449651</td>\n",
              "      <td>7934206.0</td>\n",
              "      <td>58171.0</td>\n",
              "      <td>77247.0</td>\n",
              "      <td>-58903.0</td>\n",
              "      <td>646155.0</td>\n",
              "      <td>297703.0</td>\n",
              "      <td>-54314.0</td>\n",
              "      <td>319380.0</td>\n",
              "    </tr>\n",
              "    <tr>\n",
              "      <th>2</th>\n",
              "      <td>2011-09-30</td>\n",
              "      <td>0.0</td>\n",
              "      <td>0.0</td>\n",
              "      <td>0.0</td>\n",
              "      <td>0.0</td>\n",
              "      <td>5.193094</td>\n",
              "      <td>5.308875</td>\n",
              "      <td>5.056812</td>\n",
              "      <td>5.174781</td>\n",
              "      <td>5182758.0</td>\n",
              "      <td>57666.0</td>\n",
              "      <td>81701.0</td>\n",
              "      <td>-65078.0</td>\n",
              "      <td>700250.0</td>\n",
              "      <td>406132.0</td>\n",
              "      <td>-68844.0</td>\n",
              "      <td>213328.0</td>\n",
              "    </tr>\n",
              "    <tr>\n",
              "      <th>3</th>\n",
              "      <td>2011-12-31</td>\n",
              "      <td>0.0</td>\n",
              "      <td>0.0</td>\n",
              "      <td>0.0</td>\n",
              "      <td>0.0</td>\n",
              "      <td>5.933556</td>\n",
              "      <td>6.075238</td>\n",
              "      <td>5.811175</td>\n",
              "      <td>5.970571</td>\n",
              "      <td>5447452.0</td>\n",
              "      <td>39375.0</td>\n",
              "      <td>88762.0</td>\n",
              "      <td>-81488.0</td>\n",
              "      <td>713448.0</td>\n",
              "      <td>489403.0</td>\n",
              "      <td>-54262.0</td>\n",
              "      <td>255266.0</td>\n",
              "    </tr>\n",
              "    <tr>\n",
              "      <th>4</th>\n",
              "      <td>2012-03-31</td>\n",
              "      <td>0.0</td>\n",
              "      <td>0.0</td>\n",
              "      <td>0.0</td>\n",
              "      <td>0.0</td>\n",
              "      <td>6.381871</td>\n",
              "      <td>6.505903</td>\n",
              "      <td>6.246290</td>\n",
              "      <td>6.388194</td>\n",
              "      <td>5723145.0</td>\n",
              "      <td>30167.0</td>\n",
              "      <td>98973.0</td>\n",
              "      <td>-89873.0</td>\n",
              "      <td>761100.0</td>\n",
              "      <td>607226.0</td>\n",
              "      <td>-67987.0</td>\n",
              "      <td>218570.0</td>\n",
              "    </tr>\n",
              "  </tbody>\n",
              "</table>\n",
              "</div>"
            ],
            "text/plain": [
              "        Date  ...  Cash and Investment\n",
              "0 2011-03-31  ...             100655.0\n",
              "1 2011-06-30  ...             319380.0\n",
              "2 2011-09-30  ...             213328.0\n",
              "3 2011-12-31  ...             255266.0\n",
              "4 2012-03-31  ...             218570.0\n",
              "\n",
              "[5 rows x 17 columns]"
            ]
          },
          "execution_count": 73,
          "metadata": {},
          "output_type": "execute_result"
        }
      ],
      "source": [
        "#selecting necessary features and grouping them\n",
        "columns_selected=df[[\"Total Production (Global)\",\"Date\",\"Total Deliveries (Global)\",\n",
        "                     \"Solar Deployed (Global)\",\"Storage Deployed (Global)\",\n",
        "                     \"Open Stocks\",\"High Stocks\",\n",
        "                     \"Low Stocks\",\"Adj Close Stocks\",\"Volume Stock\",\"Revenues\",\"Operating expenses\",\n",
        "                     \"Net loss\",\"Total assets\",\"Total Liabilities\",\"Capital expenditures\",\"Cash and Investment\"]]\n",
        "df_production=columns_selected.copy()\n",
        "df_production=df_production.groupby([\"Date\"]).mean()\n",
        "df_production.reset_index(inplace=True)\n",
        "df_production.head()"
      ]
    },
    {
      "cell_type": "code",
      "execution_count": null,
      "metadata": {
        "colab": {
          "base_uri": "https://localhost:8080/",
          "height": 261
        },
        "id": "imyb9z6dI9AQ",
        "outputId": "706bead3-94e7-4758-f66d-f04be1c8d4f2"
      },
      "outputs": [
        {
          "data": {
            "text/html": [
              "<div>\n",
              "<style scoped>\n",
              "    .dataframe tbody tr th:only-of-type {\n",
              "        vertical-align: middle;\n",
              "    }\n",
              "\n",
              "    .dataframe tbody tr th {\n",
              "        vertical-align: top;\n",
              "    }\n",
              "\n",
              "    .dataframe thead th {\n",
              "        text-align: right;\n",
              "    }\n",
              "</style>\n",
              "<table border=\"1\" class=\"dataframe\">\n",
              "  <thead>\n",
              "    <tr style=\"text-align: right;\">\n",
              "      <th></th>\n",
              "      <th>Total Production (Global)</th>\n",
              "      <th>Total Deliveries (Global)</th>\n",
              "      <th>Solar Deployed (Global)</th>\n",
              "      <th>Storage Deployed (Global)</th>\n",
              "      <th>Open Stocks</th>\n",
              "      <th>High Stocks</th>\n",
              "      <th>Low Stocks</th>\n",
              "      <th>Adj Close Stocks</th>\n",
              "      <th>Volume Stock</th>\n",
              "      <th>Revenues</th>\n",
              "      <th>Operating expenses</th>\n",
              "      <th>Net loss</th>\n",
              "      <th>Total assets</th>\n",
              "      <th>Total Liabilities</th>\n",
              "      <th>Capital expenditures</th>\n",
              "      <th>Cash and Investment</th>\n",
              "      <th>Total Production Units</th>\n",
              "    </tr>\n",
              "  </thead>\n",
              "  <tbody>\n",
              "    <tr>\n",
              "      <th>0</th>\n",
              "      <td>0.0</td>\n",
              "      <td>0.0</td>\n",
              "      <td>0.0</td>\n",
              "      <td>0.0</td>\n",
              "      <td>4.852903</td>\n",
              "      <td>4.938806</td>\n",
              "      <td>4.744710</td>\n",
              "      <td>4.843548</td>\n",
              "      <td>7281202.0</td>\n",
              "      <td>49030.0</td>\n",
              "      <td>65374.0</td>\n",
              "      <td>-48941.0</td>\n",
              "      <td>646155.0</td>\n",
              "      <td>297703.0</td>\n",
              "      <td>-20476.0</td>\n",
              "      <td>100655.0</td>\n",
              "      <td>3.0</td>\n",
              "    </tr>\n",
              "    <tr>\n",
              "      <th>1</th>\n",
              "      <td>0.0</td>\n",
              "      <td>0.0</td>\n",
              "      <td>0.0</td>\n",
              "      <td>0.0</td>\n",
              "      <td>5.472635</td>\n",
              "      <td>5.575397</td>\n",
              "      <td>5.337683</td>\n",
              "      <td>5.449651</td>\n",
              "      <td>7934206.0</td>\n",
              "      <td>58171.0</td>\n",
              "      <td>77247.0</td>\n",
              "      <td>-58903.0</td>\n",
              "      <td>646155.0</td>\n",
              "      <td>297703.0</td>\n",
              "      <td>-54314.0</td>\n",
              "      <td>319380.0</td>\n",
              "      <td>3.0</td>\n",
              "    </tr>\n",
              "    <tr>\n",
              "      <th>2</th>\n",
              "      <td>0.0</td>\n",
              "      <td>0.0</td>\n",
              "      <td>0.0</td>\n",
              "      <td>0.0</td>\n",
              "      <td>5.193094</td>\n",
              "      <td>5.308875</td>\n",
              "      <td>5.056812</td>\n",
              "      <td>5.174781</td>\n",
              "      <td>5182758.0</td>\n",
              "      <td>57666.0</td>\n",
              "      <td>81701.0</td>\n",
              "      <td>-65078.0</td>\n",
              "      <td>700250.0</td>\n",
              "      <td>406132.0</td>\n",
              "      <td>-68844.0</td>\n",
              "      <td>213328.0</td>\n",
              "      <td>3.0</td>\n",
              "    </tr>\n",
              "    <tr>\n",
              "      <th>3</th>\n",
              "      <td>0.0</td>\n",
              "      <td>0.0</td>\n",
              "      <td>0.0</td>\n",
              "      <td>0.0</td>\n",
              "      <td>5.933556</td>\n",
              "      <td>6.075238</td>\n",
              "      <td>5.811175</td>\n",
              "      <td>5.970571</td>\n",
              "      <td>5447452.0</td>\n",
              "      <td>39375.0</td>\n",
              "      <td>88762.0</td>\n",
              "      <td>-81488.0</td>\n",
              "      <td>713448.0</td>\n",
              "      <td>489403.0</td>\n",
              "      <td>-54262.0</td>\n",
              "      <td>255266.0</td>\n",
              "      <td>3.0</td>\n",
              "    </tr>\n",
              "    <tr>\n",
              "      <th>4</th>\n",
              "      <td>0.0</td>\n",
              "      <td>0.0</td>\n",
              "      <td>0.0</td>\n",
              "      <td>0.0</td>\n",
              "      <td>6.381871</td>\n",
              "      <td>6.505903</td>\n",
              "      <td>6.246290</td>\n",
              "      <td>6.388194</td>\n",
              "      <td>5723145.0</td>\n",
              "      <td>30167.0</td>\n",
              "      <td>98973.0</td>\n",
              "      <td>-89873.0</td>\n",
              "      <td>761100.0</td>\n",
              "      <td>607226.0</td>\n",
              "      <td>-67987.0</td>\n",
              "      <td>218570.0</td>\n",
              "      <td>3.0</td>\n",
              "    </tr>\n",
              "  </tbody>\n",
              "</table>\n",
              "</div>"
            ],
            "text/plain": [
              "   Total Production (Global)  ...  Total Production Units\n",
              "0                        0.0  ...                     3.0\n",
              "1                        0.0  ...                     3.0\n",
              "2                        0.0  ...                     3.0\n",
              "3                        0.0  ...                     3.0\n",
              "4                        0.0  ...                     3.0\n",
              "\n",
              "[5 rows x 17 columns]"
            ]
          },
          "execution_count": 74,
          "metadata": {},
          "output_type": "execute_result"
        }
      ],
      "source": [
        "columns_selected=df[[\"Date\",\"Total Production Units\"]]\n",
        "df_produnits_continent=columns_selected.copy()\n",
        "df_produnits_cont=df_produnits_continent.groupby([\"Date\"]).sum()\n",
        "df_produnits_cont.reset_index(inplace=True)\n",
        "df_produnits_cont.head()\n",
        "\n",
        "cols_to_use = df_produnits_cont.columns.difference(df_production.columns)\n",
        "df_tesla_prod= pd.merge(df_production, df_produnits_cont[cols_to_use], left_index=True, right_index=True, how='outer')\n",
        "\n",
        "df_tesla_prod.drop(columns=\"Date\",inplace=True)\n",
        "df_tesla_prod.head()"
      ]
    },
    {
      "cell_type": "code",
      "execution_count": null,
      "metadata": {
        "id": "YcYdrLsTI9AQ"
      },
      "outputs": [],
      "source": [
        "#standardize the data\n",
        "features_tesla=[\"Total Deliveries (Global)\",\n",
        "                \"Solar Deployed (Global)\",\"Storage Deployed (Global)\",\n",
        "                \"Open Stocks\",\"High Stocks\",\n",
        "                \"Low Stocks\",\"Adj Close Stocks\",\"Volume Stock\",\"Revenues\",\"Operating expenses\",\n",
        "                \"Net loss\",\"Total assets\",\"Total Liabilities\",\"Capital expenditures\",\"Cash and Investment\",\"Total Production Units\"]\n",
        "\n",
        "df_fitted=pd.DataFrame(df_tesla_prod[features_tesla])\n",
        "minmax=MinMaxScaler()\n",
        "df_tesla_prod[features_tesla]=minmax.fit_transform(df_fitted)\n",
        "\n",
        "#defining the dependent and independent variables\n",
        "y=df_tesla_prod[\"Total Production (Global)\"]\n",
        "df_tesla_prod.drop(columns=\"Total Production (Global)\",inplace=True)\n",
        "X=df_tesla_prod\n",
        "\n",
        "#train-test-split\n",
        "x_train,x_test,y_train,y_test=train_test_split(X, y, test_size=0.2, random_state=42)"
      ]
    },
    {
      "cell_type": "code",
      "execution_count": null,
      "metadata": {
        "colab": {
          "base_uri": "https://localhost:8080/",
          "height": 772
        },
        "id": "zEN4W-ewI9AQ",
        "outputId": "862483a8-6a32-465a-a348-513baea6907c"
      },
      "outputs": [
        {
          "data": {
            "text/html": [
              "<table class=\"simpletable\">\n",
              "<caption>OLS Regression Results</caption>\n",
              "<tr>\n",
              "  <th>Dep. Variable:</th>    <td>Total Production (Global)</td> <th>  R-squared (uncentered):</th>      <td>   0.999</td>\n",
              "</tr>\n",
              "<tr>\n",
              "  <th>Model:</th>                       <td>OLS</td>            <th>  Adj. R-squared (uncentered):</th> <td>   0.998</td>\n",
              "</tr>\n",
              "<tr>\n",
              "  <th>Method:</th>                 <td>Least Squares</td>       <th>  F-statistic:       </th>          <td>   1562.</td>\n",
              "</tr>\n",
              "<tr>\n",
              "  <th>Date:</th>                 <td>Tue, 07 Dec 2021</td>      <th>  Prob (F-statistic):</th>          <td>8.37e-36</td>\n",
              "</tr>\n",
              "<tr>\n",
              "  <th>Time:</th>                     <td>18:47:11</td>          <th>  Log-Likelihood:    </th>          <td> -398.28</td>\n",
              "</tr>\n",
              "<tr>\n",
              "  <th>No. Observations:</th>          <td>    43</td>           <th>  AIC:               </th>          <td>   828.6</td>\n",
              "</tr>\n",
              "<tr>\n",
              "  <th>Df Residuals:</th>              <td>    27</td>           <th>  BIC:               </th>          <td>   856.7</td>\n",
              "</tr>\n",
              "<tr>\n",
              "  <th>Df Model:</th>                  <td>    16</td>           <th>                     </th>              <td> </td>   \n",
              "</tr>\n",
              "<tr>\n",
              "  <th>Covariance Type:</th>          <td>nonrobust</td>         <th>                     </th>              <td> </td>   \n",
              "</tr>\n",
              "</table>\n",
              "<table class=\"simpletable\">\n",
              "<tr>\n",
              "              <td></td>                 <th>coef</th>     <th>std err</th>      <th>t</th>      <th>P>|t|</th>  <th>[0.025</th>    <th>0.975]</th>  \n",
              "</tr>\n",
              "<tr>\n",
              "  <th>Total Deliveries (Global)</th> <td> 3.363e+05</td> <td> 3.87e+04</td> <td>    8.698</td> <td> 0.000</td> <td> 2.57e+05</td> <td> 4.16e+05</td>\n",
              "</tr>\n",
              "<tr>\n",
              "  <th>Solar Deployed (Global)</th>   <td> 1.658e+04</td> <td> 6032.751</td> <td>    2.748</td> <td> 0.011</td> <td> 4197.054</td> <td>  2.9e+04</td>\n",
              "</tr>\n",
              "<tr>\n",
              "  <th>Storage Deployed (Global)</th> <td>-9670.8571</td> <td> 1.07e+04</td> <td>   -0.903</td> <td> 0.375</td> <td>-3.16e+04</td> <td> 1.23e+04</td>\n",
              "</tr>\n",
              "<tr>\n",
              "  <th>Open Stocks</th>               <td>-1.212e+07</td> <td> 3.37e+06</td> <td>   -3.598</td> <td> 0.001</td> <td> -1.9e+07</td> <td>-5.21e+06</td>\n",
              "</tr>\n",
              "<tr>\n",
              "  <th>High Stocks</th>               <td> 9.223e+06</td> <td> 1.78e+06</td> <td>    5.174</td> <td> 0.000</td> <td> 5.57e+06</td> <td> 1.29e+07</td>\n",
              "</tr>\n",
              "<tr>\n",
              "  <th>Low Stocks</th>                <td> 6.669e+06</td> <td> 1.41e+06</td> <td>    4.742</td> <td> 0.000</td> <td> 3.78e+06</td> <td> 9.55e+06</td>\n",
              "</tr>\n",
              "<tr>\n",
              "  <th>Adj Close Stocks</th>          <td>-3.752e+06</td> <td> 2.58e+06</td> <td>   -1.456</td> <td> 0.157</td> <td>-9.04e+06</td> <td> 1.54e+06</td>\n",
              "</tr>\n",
              "<tr>\n",
              "  <th>Volume Stock</th>              <td> 1783.8439</td> <td> 4266.707</td> <td>    0.418</td> <td> 0.679</td> <td>-6970.715</td> <td> 1.05e+04</td>\n",
              "</tr>\n",
              "<tr>\n",
              "  <th>Revenues</th>                  <td>-7.328e+04</td> <td> 3.87e+04</td> <td>   -1.892</td> <td> 0.069</td> <td>-1.53e+05</td> <td> 6187.724</td>\n",
              "</tr>\n",
              "<tr>\n",
              "  <th>Operating expenses</th>        <td> 4.009e+04</td> <td> 1.35e+04</td> <td>    2.962</td> <td> 0.006</td> <td> 1.23e+04</td> <td> 6.79e+04</td>\n",
              "</tr>\n",
              "<tr>\n",
              "  <th>Net loss</th>                  <td>-5.591e+04</td> <td> 3.06e+04</td> <td>   -1.824</td> <td> 0.079</td> <td>-1.19e+05</td> <td> 6971.169</td>\n",
              "</tr>\n",
              "<tr>\n",
              "  <th>Total assets</th>              <td>-1.003e+04</td> <td> 6.82e+04</td> <td>   -0.147</td> <td> 0.884</td> <td> -1.5e+05</td> <td>  1.3e+05</td>\n",
              "</tr>\n",
              "<tr>\n",
              "  <th>Total Liabilities</th>         <td>-2.889e+04</td> <td>    5e+04</td> <td>   -0.578</td> <td> 0.568</td> <td>-1.31e+05</td> <td> 7.36e+04</td>\n",
              "</tr>\n",
              "<tr>\n",
              "  <th>Capital expenditures</th>      <td> 1.055e+04</td> <td> 6060.826</td> <td>    1.741</td> <td> 0.093</td> <td>-1881.443</td> <td>  2.3e+04</td>\n",
              "</tr>\n",
              "<tr>\n",
              "  <th>Cash and Investment</th>       <td> 1539.7582</td> <td>  1.2e+04</td> <td>    0.129</td> <td> 0.899</td> <td> -2.3e+04</td> <td> 2.61e+04</td>\n",
              "</tr>\n",
              "<tr>\n",
              "  <th>Total Production Units</th>    <td>-9646.0885</td> <td> 8323.900</td> <td>   -1.159</td> <td> 0.257</td> <td>-2.67e+04</td> <td> 7433.144</td>\n",
              "</tr>\n",
              "</table>\n",
              "<table class=\"simpletable\">\n",
              "<tr>\n",
              "  <th>Omnibus:</th>       <td> 9.679</td> <th>  Durbin-Watson:     </th> <td>   2.633</td>\n",
              "</tr>\n",
              "<tr>\n",
              "  <th>Prob(Omnibus):</th> <td> 0.008</td> <th>  Jarque-Bera (JB):  </th> <td>   9.090</td>\n",
              "</tr>\n",
              "<tr>\n",
              "  <th>Skew:</th>          <td>-0.908</td> <th>  Prob(JB):          </th> <td>  0.0106</td>\n",
              "</tr>\n",
              "<tr>\n",
              "  <th>Kurtosis:</th>      <td> 4.334</td> <th>  Cond. No.          </th> <td>1.13e+04</td>\n",
              "</tr>\n",
              "</table><br/><br/>Warnings:<br/>[1] Standard Errors assume that the covariance matrix of the errors is correctly specified.<br/>[2] The condition number is large, 1.13e+04. This might indicate that there are<br/>strong multicollinearity or other numerical problems."
            ],
            "text/plain": [
              "<class 'statsmodels.iolib.summary.Summary'>\n",
              "\"\"\"\n",
              "                                    OLS Regression Results                                    \n",
              "==============================================================================================\n",
              "Dep. Variable:     Total Production (Global)   R-squared (uncentered):                   0.999\n",
              "Model:                                   OLS   Adj. R-squared (uncentered):              0.998\n",
              "Method:                        Least Squares   F-statistic:                              1562.\n",
              "Date:                       Tue, 07 Dec 2021   Prob (F-statistic):                    8.37e-36\n",
              "Time:                               18:47:11   Log-Likelihood:                         -398.28\n",
              "No. Observations:                         43   AIC:                                      828.6\n",
              "Df Residuals:                             27   BIC:                                      856.7\n",
              "Df Model:                                 16                                                  \n",
              "Covariance Type:                   nonrobust                                                  \n",
              "=============================================================================================\n",
              "                                coef    std err          t      P>|t|      [0.025      0.975]\n",
              "---------------------------------------------------------------------------------------------\n",
              "Total Deliveries (Global)  3.363e+05   3.87e+04      8.698      0.000    2.57e+05    4.16e+05\n",
              "Solar Deployed (Global)    1.658e+04   6032.751      2.748      0.011    4197.054     2.9e+04\n",
              "Storage Deployed (Global) -9670.8571   1.07e+04     -0.903      0.375   -3.16e+04    1.23e+04\n",
              "Open Stocks               -1.212e+07   3.37e+06     -3.598      0.001    -1.9e+07   -5.21e+06\n",
              "High Stocks                9.223e+06   1.78e+06      5.174      0.000    5.57e+06    1.29e+07\n",
              "Low Stocks                 6.669e+06   1.41e+06      4.742      0.000    3.78e+06    9.55e+06\n",
              "Adj Close Stocks          -3.752e+06   2.58e+06     -1.456      0.157   -9.04e+06    1.54e+06\n",
              "Volume Stock               1783.8439   4266.707      0.418      0.679   -6970.715    1.05e+04\n",
              "Revenues                  -7.328e+04   3.87e+04     -1.892      0.069   -1.53e+05    6187.724\n",
              "Operating expenses         4.009e+04   1.35e+04      2.962      0.006    1.23e+04    6.79e+04\n",
              "Net loss                  -5.591e+04   3.06e+04     -1.824      0.079   -1.19e+05    6971.169\n",
              "Total assets              -1.003e+04   6.82e+04     -0.147      0.884    -1.5e+05     1.3e+05\n",
              "Total Liabilities         -2.889e+04      5e+04     -0.578      0.568   -1.31e+05    7.36e+04\n",
              "Capital expenditures       1.055e+04   6060.826      1.741      0.093   -1881.443     2.3e+04\n",
              "Cash and Investment        1539.7582    1.2e+04      0.129      0.899    -2.3e+04    2.61e+04\n",
              "Total Production Units    -9646.0885   8323.900     -1.159      0.257   -2.67e+04    7433.144\n",
              "==============================================================================\n",
              "Omnibus:                        9.679   Durbin-Watson:                   2.633\n",
              "Prob(Omnibus):                  0.008   Jarque-Bera (JB):                9.090\n",
              "Skew:                          -0.908   Prob(JB):                       0.0106\n",
              "Kurtosis:                       4.334   Cond. No.                     1.13e+04\n",
              "==============================================================================\n",
              "\n",
              "Warnings:\n",
              "[1] Standard Errors assume that the covariance matrix of the errors is correctly specified.\n",
              "[2] The condition number is large, 1.13e+04. This might indicate that there are\n",
              "strong multicollinearity or other numerical problems.\n",
              "\"\"\""
            ]
          },
          "execution_count": 76,
          "metadata": {},
          "output_type": "execute_result"
        }
      ],
      "source": [
        "#initial regression fit\n",
        "results=sm.OLS(y,X).fit()\n",
        "results.summary()"
      ]
    },
    {
      "cell_type": "markdown",
      "metadata": {
        "id": "jh7NIndgI9AR"
      },
      "source": [
        "We have taken a significance level of 10%. From above, we can view the parameters associated with an Ordinary Linear Regression model. We have the coefficients, the P-values etc. In accordance to our significance level, we are dropping every feature that has a p-value above ~0.1."
      ]
    },
    {
      "cell_type": "code",
      "execution_count": null,
      "metadata": {
        "id": "JKfsMzACI9AR"
      },
      "outputs": [],
      "source": [
        "#selecting only appropriate columns\n",
        "X.drop(columns=[\"Storage Deployed (Global)\",\"Adj Close Stocks\",\"Volume Stock\",\"Total assets\",\"Total Liabilities\",\"Cash and Investment\",\"Total Production Units\"],inplace=True)\n",
        "\n",
        "#train-test-split\n",
        "x_train,x_test,y_train,y_test=train_test_split(X, y, test_size=0.2, random_state=42)"
      ]
    },
    {
      "cell_type": "markdown",
      "metadata": {
        "id": "F9Cim42oI9AR"
      },
      "source": [
        "To undertake the model further, we will be using four different types of regression models- \n",
        "1. Lasso Regression\n",
        "2. Ridge Regression\n",
        "3. Elastic Net CV\n",
        "4. Random Forest Regressor\n",
        "5. Gradient Boosting Regressor"
      ]
    },
    {
      "cell_type": "code",
      "execution_count": null,
      "metadata": {
        "id": "JaUfvuk7I9AR"
      },
      "outputs": [],
      "source": [
        "#defining certain data structures\n",
        "Model=[\"Lasso Regression\",\"Ridge Regression\",\"ElasticNetCV\",\"Random Forest Regressor\",\"Gradient Boosting Regressor\"]\n",
        "Scores=[]\n",
        "features=[\"Total Deliveries (Global)\",\"Solar Deployed (Global)\",\"Open Stocks\",\"High Stocks\",\"Low Stocks\",\"Revenues\",\"Operating expenses\",\"Net loss\",\"Capital expenditures\"]\n",
        "coefficients={}"
      ]
    },
    {
      "cell_type": "code",
      "execution_count": null,
      "metadata": {
        "colab": {
          "base_uri": "https://localhost:8080/"
        },
        "id": "CYDInrFBI9AR",
        "outputId": "4521d0e4-5eba-409b-b401-e42b7e8bc46c"
      },
      "outputs": [
        {
          "name": "stdout",
          "output_type": "stream",
          "text": [
            "{'Total Deliveries (Global)': 221845.27505520024, 'Solar Deployed (Global)': 0.0, 'Open Stocks': 6920.138887836668, 'High Stocks': 514.441654144809, 'Low Stocks': 59.71654057073631, 'Revenues': 0.0, 'Operating expenses': 8478.10929811458, 'Net loss': 0.0, 'Capital expenditures': -0.0, 'intercept': 117.19810690302256}\n",
            "Using 5 splits, <class 'sklearn.linear_model._coordinate_descent.Lasso'> got a best validation score of 0.988084 +- 0.008078866391384784, with the parameters {'alpha': 100}.\n"
          ]
        }
      ],
      "source": [
        "#apply linear regression models\n",
        "gs_params={'alpha':(0.0001,0.001,0.01,0.1,1,10,100,1000)}\n",
        "gs = GridSearchCV(Lasso(), param_grid=gs_params, scoring=\"r2\", cv=5)\n",
        "gs.fit(x_train, y_train)\n",
        "gs.best_params_\n",
        "\n",
        "# find best model score\n",
        "gs.score(x_test, y_test)\n",
        "coeff_list=gs.best_estimator_.coef_\n",
        "for i in range(len(coeff_list)):\n",
        "    coefficients[features[i]]=coeff_list[i]\n",
        "coefficients[\"intercept\"]=gs.best_estimator_.intercept_\n",
        "print(coefficients)\n",
        "\n",
        "Scores.append(gs.best_score_)\n",
        "# Print information about the grid search\n",
        "print(f\"Using {gs.n_splits_} splits, {type(gs.best_estimator_)} got a best validation score of {gs.best_score_:4f} +- {gs.cv_results_['std_test_score'][gs.best_index_]}, with the parameters {gs.best_params_}.\")"
      ]
    },
    {
      "cell_type": "markdown",
      "metadata": {
        "id": "7akiQnl4I9AS"
      },
      "source": [
        "As seen above, certain features have been disregarded in the Lasso Regression Model. This is because Lasso fits only the relevant features and disregards the others."
      ]
    },
    {
      "cell_type": "code",
      "execution_count": null,
      "metadata": {
        "colab": {
          "base_uri": "https://localhost:8080/"
        },
        "id": "Vc7sdKDFI9AS",
        "outputId": "e96a04ad-b496-4897-a315-e1502cab2bc2"
      },
      "outputs": [
        {
          "name": "stdout",
          "output_type": "stream",
          "text": [
            "[87749.12474956 -3568.94412936  9995.10981669 10404.07457649\n",
            " 10450.09365896 78736.37641375 29053.21910137 29424.37415909\n",
            " 12664.47646702]\n",
            "Using 5 splits, <class 'sklearn.linear_model._ridge.Ridge'> got a best validation score of 0.975110 +- 0.012433524565556086, with the parameters {'alpha': 0.1}.\n"
          ]
        }
      ],
      "source": [
        "#Ridge Regression\n",
        "gs_params={'alpha':(0.0001,0.001,0.01,0.1,1,10,100,1000)}\n",
        "gs = GridSearchCV(Ridge(), param_grid=gs_params, scoring=\"r2\", cv=5)\n",
        "gs.fit(x_train, y_train)\n",
        "gs.best_params_\n",
        "\n",
        "# find best model score\n",
        "gs.score(x_test, y_test)\n",
        "print(gs.best_estimator_.coef_)\n",
        "\n",
        "Scores.append(gs.best_score_)\n",
        "# Print information about the grid search\n",
        "print(f\"Using {gs.n_splits_} splits, {type(gs.best_estimator_)} got a best validation score of {gs.best_score_:4f} +- {gs.cv_results_['std_test_score'][gs.best_index_]}, with the parameters {gs.best_params_}.\")"
      ]
    },
    {
      "cell_type": "code",
      "execution_count": null,
      "metadata": {
        "colab": {
          "base_uri": "https://localhost:8080/"
        },
        "id": "27pjCZpuI9AS",
        "outputId": "4e7090e9-224b-4992-b8b9-1a7c43f73cd2"
      },
      "outputs": [
        {
          "name": "stdout",
          "output_type": "stream",
          "text": [
            "[87403.22515004 -3565.07025464 10067.98128178 10468.37832835\n",
            " 10520.09480144 78634.81106519 29188.25606643 29431.6603442\n",
            " 12600.01132228]\n",
            "Using 5 splits, <class 'sklearn.linear_model._coordinate_descent.ElasticNet'> got a best validation score of 0.975048 +- 0.012849832251678388, with the parameters {'alpha': 0.01, 'l1_ratio': 0.7000000000000001}.\n"
          ]
        }
      ],
      "source": [
        "#Elastic Net CV Regresion\n",
        "gs_params={'alpha':(0.0001,0.001,0.01,0.1,1,10,100,1000),'l1_ratio': np.arange(0, 1, 0.1)}\n",
        "gs = GridSearchCV(ElasticNet(random_state=0), param_grid=gs_params, scoring=\"r2\", cv=5)\n",
        "gs.fit(x_train, y_train)\n",
        "gs.best_params_\n",
        "\n",
        "# find best model score\n",
        "gs.score(x_test, y_test)\n",
        "\n",
        "Scores.append(gs.best_score_)\n",
        "print(gs.best_estimator_.coef_)\n",
        "\n",
        "# Print information about the grid search\n",
        "print(f\"Using {gs.n_splits_} splits, {type(gs.best_estimator_)} got a best validation score of {gs.best_score_:4f} +- {gs.cv_results_['std_test_score'][gs.best_index_]}, with the parameters {gs.best_params_}.\")"
      ]
    },
    {
      "cell_type": "code",
      "execution_count": null,
      "metadata": {
        "colab": {
          "base_uri": "https://localhost:8080/"
        },
        "id": "-50n6cKtI9AS",
        "outputId": "161b8117-4ec7-4a3e-be66-23250bdbcc64"
      },
      "outputs": [
        {
          "name": "stdout",
          "output_type": "stream",
          "text": [
            "Using 5 splits, <class 'sklearn.ensemble._forest.RandomForestRegressor'> got a best validation score of 0.920311 +- 0.03969207556389609, with the parameters {'max_depth': 5, 'n_estimators': 175}.\n"
          ]
        }
      ],
      "source": [
        "#Random Forest Regressor\n",
        "gs_params = {'n_estimators': np.arange(50, 250, 25),'max_depth': list(np.arange(2, 8, 1)) + [None],}\n",
        "gs = GridSearchCV(RandomForestRegressor(random_state=0), gs_params, cv=5)\n",
        "gs.fit(x_train, y_train)\n",
        "gs.best_params_\n",
        "\n",
        "# find best model score\n",
        "gs.score(x_test, y_test)\n",
        "\n",
        "Scores.append(gs.best_score_)\n",
        "\n",
        "# Print information about the grid search\n",
        "print(f\"Using {gs.n_splits_} splits, {type(gs.best_estimator_)} got a best validation score of {gs.best_score_:4f} +- {gs.cv_results_['std_test_score'][gs.best_index_]}, with the parameters {gs.best_params_}.\")"
      ]
    },
    {
      "cell_type": "code",
      "execution_count": null,
      "metadata": {
        "colab": {
          "base_uri": "https://localhost:8080/"
        },
        "id": "LxtDyrQmI9AT",
        "outputId": "5a25f4d6-8143-42d9-dd06-b5b772e61846"
      },
      "outputs": [
        {
          "name": "stdout",
          "output_type": "stream",
          "text": [
            "Using 5 splits, <class 'sklearn.ensemble._gb.GradientBoostingRegressor'> got a best validation score of 0.934824 +- 0.02887031486805628, with the parameters {'learning_rate': 0.31622776601683794, 'max_depth': 3, 'n_estimators': 50, 'n_iter_no_change': 50}.\n"
          ]
        }
      ],
      "source": [
        "#Gradient Boosting Regressor\n",
        "gs_params = {'n_estimators': np.arange(50, 500, 50),\n",
        "             'learning_rate': np.logspace(-2, 0, 5),\n",
        "             'max_depth': [3],\n",
        "             'n_iter_no_change': [50]}\n",
        "gs = GridSearchCV(GradientBoostingRegressor(random_state=0), gs_params, cv=5)\n",
        "gs.fit(x_train, y_train)\n",
        "gs.best_params_\n",
        "\n",
        "# find best model score\n",
        "gs.score(x_test, y_test)\n",
        "\n",
        "Scores.append(gs.best_score_)\n",
        "\n",
        "# Print information about the grid search\n",
        "print(f\"Using {gs.n_splits_} splits, {type(gs.best_estimator_)} got a best validation score of {gs.best_score_:4f} +- {gs.cv_results_['std_test_score'][gs.best_index_]}, with the parameters {gs.best_params_}.\")"
      ]
    },
    {
      "cell_type": "code",
      "execution_count": null,
      "metadata": {
        "colab": {
          "base_uri": "https://localhost:8080/",
          "height": 206
        },
        "id": "fjNMwLsEI9AT",
        "outputId": "dc61abc2-2e39-4b81-9504-d498e5a7b515"
      },
      "outputs": [
        {
          "data": {
            "text/html": [
              "<div>\n",
              "<style scoped>\n",
              "    .dataframe tbody tr th:only-of-type {\n",
              "        vertical-align: middle;\n",
              "    }\n",
              "\n",
              "    .dataframe tbody tr th {\n",
              "        vertical-align: top;\n",
              "    }\n",
              "\n",
              "    .dataframe thead th {\n",
              "        text-align: right;\n",
              "    }\n",
              "</style>\n",
              "<table border=\"1\" class=\"dataframe\">\n",
              "  <thead>\n",
              "    <tr style=\"text-align: right;\">\n",
              "      <th></th>\n",
              "      <th>Model</th>\n",
              "      <th>Scores</th>\n",
              "    </tr>\n",
              "  </thead>\n",
              "  <tbody>\n",
              "    <tr>\n",
              "      <th>0</th>\n",
              "      <td>Lasso Regression</td>\n",
              "      <td>0.988084</td>\n",
              "    </tr>\n",
              "    <tr>\n",
              "      <th>1</th>\n",
              "      <td>Ridge Regression</td>\n",
              "      <td>0.975110</td>\n",
              "    </tr>\n",
              "    <tr>\n",
              "      <th>2</th>\n",
              "      <td>ElasticNetCV</td>\n",
              "      <td>0.975048</td>\n",
              "    </tr>\n",
              "    <tr>\n",
              "      <th>3</th>\n",
              "      <td>Random Forest Regressor</td>\n",
              "      <td>0.920311</td>\n",
              "    </tr>\n",
              "    <tr>\n",
              "      <th>4</th>\n",
              "      <td>Gradient Boosting Regressor</td>\n",
              "      <td>0.934824</td>\n",
              "    </tr>\n",
              "  </tbody>\n",
              "</table>\n",
              "</div>"
            ],
            "text/plain": [
              "                         Model    Scores\n",
              "0             Lasso Regression  0.988084\n",
              "1             Ridge Regression  0.975110\n",
              "2                 ElasticNetCV  0.975048\n",
              "3      Random Forest Regressor  0.920311\n",
              "4  Gradient Boosting Regressor  0.934824"
            ]
          },
          "execution_count": 84,
          "metadata": {},
          "output_type": "execute_result"
        }
      ],
      "source": [
        "#printing the best model scores\n",
        "df_scores=pd.DataFrame({\"Model\":Model,\n",
        "                       \"Scores\":Scores})\n",
        "df_scores.head()"
      ]
    },
    {
      "cell_type": "markdown",
      "metadata": {
        "id": "R9TcQEsPI9AT"
      },
      "source": [
        "Based on our estimates, the Lasso Regression gave us the best model with an accuracy score of 0.98."
      ]
    },
    {
      "cell_type": "code",
      "execution_count": null,
      "metadata": {
        "colab": {
          "base_uri": "https://localhost:8080/",
          "height": 238
        },
        "id": "jVIwJtbmI9AT",
        "outputId": "87233709-b846-41d1-ee1f-45d44bf38713"
      },
      "outputs": [
        {
          "data": {
            "text/html": [
              "<div>\n",
              "<style scoped>\n",
              "    .dataframe tbody tr th:only-of-type {\n",
              "        vertical-align: middle;\n",
              "    }\n",
              "\n",
              "    .dataframe tbody tr th {\n",
              "        vertical-align: top;\n",
              "    }\n",
              "\n",
              "    .dataframe thead th {\n",
              "        text-align: right;\n",
              "    }\n",
              "</style>\n",
              "<table border=\"1\" class=\"dataframe\">\n",
              "  <thead>\n",
              "    <tr style=\"text-align: right;\">\n",
              "      <th></th>\n",
              "      <th>feature</th>\n",
              "      <th>coefficient</th>\n",
              "    </tr>\n",
              "  </thead>\n",
              "  <tbody>\n",
              "    <tr>\n",
              "      <th>0</th>\n",
              "      <td>Total Deliveries (Global)</td>\n",
              "      <td>221845.275055</td>\n",
              "    </tr>\n",
              "    <tr>\n",
              "      <th>2</th>\n",
              "      <td>Open Stocks</td>\n",
              "      <td>6920.138888</td>\n",
              "    </tr>\n",
              "    <tr>\n",
              "      <th>3</th>\n",
              "      <td>High Stocks</td>\n",
              "      <td>514.441654</td>\n",
              "    </tr>\n",
              "    <tr>\n",
              "      <th>4</th>\n",
              "      <td>Low Stocks</td>\n",
              "      <td>59.716541</td>\n",
              "    </tr>\n",
              "    <tr>\n",
              "      <th>6</th>\n",
              "      <td>Operating expenses</td>\n",
              "      <td>8478.109298</td>\n",
              "    </tr>\n",
              "    <tr>\n",
              "      <th>9</th>\n",
              "      <td>intercept</td>\n",
              "      <td>117.198107</td>\n",
              "    </tr>\n",
              "  </tbody>\n",
              "</table>\n",
              "</div>"
            ],
            "text/plain": [
              "                     feature    coefficient\n",
              "0  Total Deliveries (Global)  221845.275055\n",
              "2                Open Stocks    6920.138888\n",
              "3                High Stocks     514.441654\n",
              "4                 Low Stocks      59.716541\n",
              "6         Operating expenses    8478.109298\n",
              "9                  intercept     117.198107"
            ]
          },
          "execution_count": 85,
          "metadata": {},
          "output_type": "execute_result"
        }
      ],
      "source": [
        "#The Coefficient dataframe:\n",
        "coeff=pd.DataFrame(coefficients.items(),columns=[\"feature\",\"coefficient\"])\n",
        "coeff= coeff[coeff['coefficient'] != 0]\n",
        "coeff"
      ]
    },
    {
      "cell_type": "markdown",
      "metadata": {
        "id": "eblbn5WaI9AU"
      },
      "source": [
        "From the analysis and prediction modelling conducted above, we got a model with very high accuracy scores. But unfortunately from the features that this model is based upon, we do not seem to find real life sense as the stock information is not dependent upon the likes of the company. Thus, fearing innacuracy, we had to drop this model too from our final analysis."
      ]
    },
    {
      "cell_type": "markdown",
      "metadata": {
        "id": "f8urj-9iI9AU"
      },
      "source": [
        "<b> C) Capital Expenditure Regression Model </b>"
      ]
    },
    {
      "cell_type": "markdown",
      "metadata": {
        "id": "oQ5Ag8hdI9AU"
      },
      "source": [
        "In this model, we attempt to look into the factors affecting the Capital Expenditures. To meet our goal in advicing the CFO on his expenditures concsidering a fixed percentage rise in sales, we build a model associating the two. In this model, we disregard all the climate, country, shares, and other information that is external to Tesla. All the features that will be selected in this model concern the internal functioning of the company. "
      ]
    },
    {
      "cell_type": "code",
      "execution_count": null,
      "metadata": {
        "colab": {
          "base_uri": "https://localhost:8080/",
          "height": 327
        },
        "id": "Fj4FX_viI9AU",
        "outputId": "46381396-4cf9-4509-ca27-adee4ac3a319"
      },
      "outputs": [
        {
          "data": {
            "text/html": [
              "<div>\n",
              "<style scoped>\n",
              "    .dataframe tbody tr th:only-of-type {\n",
              "        vertical-align: middle;\n",
              "    }\n",
              "\n",
              "    .dataframe tbody tr th {\n",
              "        vertical-align: top;\n",
              "    }\n",
              "\n",
              "    .dataframe thead th {\n",
              "        text-align: right;\n",
              "    }\n",
              "</style>\n",
              "<table border=\"1\" class=\"dataframe\">\n",
              "  <thead>\n",
              "    <tr style=\"text-align: right;\">\n",
              "      <th></th>\n",
              "      <th>Date</th>\n",
              "      <th>Total Production (Global)</th>\n",
              "      <th>Total Deliveries (Global)</th>\n",
              "      <th>Solar Deployed (Global)</th>\n",
              "      <th>Storage Deployed (Global)</th>\n",
              "      <th>Revenues</th>\n",
              "      <th>Operating expenses</th>\n",
              "      <th>Net loss</th>\n",
              "      <th>Total assets</th>\n",
              "      <th>Total Liabilities</th>\n",
              "      <th>Capital expenditures</th>\n",
              "      <th>Cash and Investment</th>\n",
              "    </tr>\n",
              "  </thead>\n",
              "  <tbody>\n",
              "    <tr>\n",
              "      <th>0</th>\n",
              "      <td>2011-03-31</td>\n",
              "      <td>0.0</td>\n",
              "      <td>0.0</td>\n",
              "      <td>0.0</td>\n",
              "      <td>0.0</td>\n",
              "      <td>49030.0</td>\n",
              "      <td>65374.0</td>\n",
              "      <td>-48941.0</td>\n",
              "      <td>646155.0</td>\n",
              "      <td>297703.0</td>\n",
              "      <td>-20476.0</td>\n",
              "      <td>100655.0</td>\n",
              "    </tr>\n",
              "    <tr>\n",
              "      <th>1</th>\n",
              "      <td>2011-06-30</td>\n",
              "      <td>0.0</td>\n",
              "      <td>0.0</td>\n",
              "      <td>0.0</td>\n",
              "      <td>0.0</td>\n",
              "      <td>58171.0</td>\n",
              "      <td>77247.0</td>\n",
              "      <td>-58903.0</td>\n",
              "      <td>646155.0</td>\n",
              "      <td>297703.0</td>\n",
              "      <td>-54314.0</td>\n",
              "      <td>319380.0</td>\n",
              "    </tr>\n",
              "    <tr>\n",
              "      <th>2</th>\n",
              "      <td>2011-09-30</td>\n",
              "      <td>0.0</td>\n",
              "      <td>0.0</td>\n",
              "      <td>0.0</td>\n",
              "      <td>0.0</td>\n",
              "      <td>57666.0</td>\n",
              "      <td>81701.0</td>\n",
              "      <td>-65078.0</td>\n",
              "      <td>700250.0</td>\n",
              "      <td>406132.0</td>\n",
              "      <td>-68844.0</td>\n",
              "      <td>213328.0</td>\n",
              "    </tr>\n",
              "    <tr>\n",
              "      <th>3</th>\n",
              "      <td>2011-12-31</td>\n",
              "      <td>0.0</td>\n",
              "      <td>0.0</td>\n",
              "      <td>0.0</td>\n",
              "      <td>0.0</td>\n",
              "      <td>39375.0</td>\n",
              "      <td>88762.0</td>\n",
              "      <td>-81488.0</td>\n",
              "      <td>713448.0</td>\n",
              "      <td>489403.0</td>\n",
              "      <td>-54262.0</td>\n",
              "      <td>255266.0</td>\n",
              "    </tr>\n",
              "    <tr>\n",
              "      <th>4</th>\n",
              "      <td>2012-03-31</td>\n",
              "      <td>0.0</td>\n",
              "      <td>0.0</td>\n",
              "      <td>0.0</td>\n",
              "      <td>0.0</td>\n",
              "      <td>30167.0</td>\n",
              "      <td>98973.0</td>\n",
              "      <td>-89873.0</td>\n",
              "      <td>761100.0</td>\n",
              "      <td>607226.0</td>\n",
              "      <td>-67987.0</td>\n",
              "      <td>218570.0</td>\n",
              "    </tr>\n",
              "  </tbody>\n",
              "</table>\n",
              "</div>"
            ],
            "text/plain": [
              "        Date  ...  Cash and Investment\n",
              "0 2011-03-31  ...             100655.0\n",
              "1 2011-06-30  ...             319380.0\n",
              "2 2011-09-30  ...             213328.0\n",
              "3 2011-12-31  ...             255266.0\n",
              "4 2012-03-31  ...             218570.0\n",
              "\n",
              "[5 rows x 12 columns]"
            ]
          },
          "execution_count": 86,
          "metadata": {},
          "output_type": "execute_result"
        }
      ],
      "source": [
        "#selecting appropriate columns\n",
        "#grouping the columns by date\n",
        "columns_selected=df[[\"Total Production (Global)\",\"Date\",\"Total Deliveries (Global)\",\n",
        "                     \"Solar Deployed (Global)\",\"Storage Deployed (Global)\",\n",
        "                     \"Revenues\",\"Operating expenses\",\n",
        "                     \"Net loss\",\"Total assets\",\"Total Liabilities\",\"Capital expenditures\",\"Cash and Investment\"]]\n",
        "df_production=columns_selected.copy()\n",
        "df_production=df_production.groupby([\"Date\"]).mean()\n",
        "df_production.reset_index(inplace=True)\n",
        "df_production.head()"
      ]
    },
    {
      "cell_type": "code",
      "execution_count": null,
      "metadata": {
        "colab": {
          "base_uri": "https://localhost:8080/",
          "height": 206
        },
        "id": "wtF8ECqfI9AV",
        "outputId": "76d90de1-0517-4d45-d8af-b786e745b7b2"
      },
      "outputs": [
        {
          "data": {
            "text/html": [
              "<div>\n",
              "<style scoped>\n",
              "    .dataframe tbody tr th:only-of-type {\n",
              "        vertical-align: middle;\n",
              "    }\n",
              "\n",
              "    .dataframe tbody tr th {\n",
              "        vertical-align: top;\n",
              "    }\n",
              "\n",
              "    .dataframe thead th {\n",
              "        text-align: right;\n",
              "    }\n",
              "</style>\n",
              "<table border=\"1\" class=\"dataframe\">\n",
              "  <thead>\n",
              "    <tr style=\"text-align: right;\">\n",
              "      <th></th>\n",
              "      <th>Date</th>\n",
              "      <th>Total Production Units</th>\n",
              "      <th>Unit Sales</th>\n",
              "    </tr>\n",
              "  </thead>\n",
              "  <tbody>\n",
              "    <tr>\n",
              "      <th>0</th>\n",
              "      <td>2011-03-31</td>\n",
              "      <td>3.0</td>\n",
              "      <td>0.0</td>\n",
              "    </tr>\n",
              "    <tr>\n",
              "      <th>1</th>\n",
              "      <td>2011-06-30</td>\n",
              "      <td>3.0</td>\n",
              "      <td>0.0</td>\n",
              "    </tr>\n",
              "    <tr>\n",
              "      <th>2</th>\n",
              "      <td>2011-09-30</td>\n",
              "      <td>3.0</td>\n",
              "      <td>0.0</td>\n",
              "    </tr>\n",
              "    <tr>\n",
              "      <th>3</th>\n",
              "      <td>2011-12-31</td>\n",
              "      <td>3.0</td>\n",
              "      <td>0.0</td>\n",
              "    </tr>\n",
              "    <tr>\n",
              "      <th>4</th>\n",
              "      <td>2012-03-31</td>\n",
              "      <td>3.0</td>\n",
              "      <td>0.0</td>\n",
              "    </tr>\n",
              "  </tbody>\n",
              "</table>\n",
              "</div>"
            ],
            "text/plain": [
              "        Date  Total Production Units  Unit Sales\n",
              "0 2011-03-31                     3.0         0.0\n",
              "1 2011-06-30                     3.0         0.0\n",
              "2 2011-09-30                     3.0         0.0\n",
              "3 2011-12-31                     3.0         0.0\n",
              "4 2012-03-31                     3.0         0.0"
            ]
          },
          "execution_count": 87,
          "metadata": {},
          "output_type": "execute_result"
        }
      ],
      "source": [
        "columns_selected=df[[\"Date\",\"Total Production Units\",\"Unit Sales\"]]\n",
        "df_produnits_continent=columns_selected.copy()\n",
        "df_produnits_cont=df_produnits_continent.groupby([\"Date\"]).sum()\n",
        "df_produnits_cont.reset_index(inplace=True)\n",
        "df_produnits_cont.head()"
      ]
    },
    {
      "cell_type": "code",
      "execution_count": null,
      "metadata": {
        "colab": {
          "base_uri": "https://localhost:8080/",
          "height": 241
        },
        "id": "ZirXx7QYI9AV",
        "outputId": "d86c4438-61e8-4090-ccd7-230dd468f693"
      },
      "outputs": [
        {
          "data": {
            "text/html": [
              "<div>\n",
              "<style scoped>\n",
              "    .dataframe tbody tr th:only-of-type {\n",
              "        vertical-align: middle;\n",
              "    }\n",
              "\n",
              "    .dataframe tbody tr th {\n",
              "        vertical-align: top;\n",
              "    }\n",
              "\n",
              "    .dataframe thead th {\n",
              "        text-align: right;\n",
              "    }\n",
              "</style>\n",
              "<table border=\"1\" class=\"dataframe\">\n",
              "  <thead>\n",
              "    <tr style=\"text-align: right;\">\n",
              "      <th></th>\n",
              "      <th>Total Production (Global)</th>\n",
              "      <th>Total Deliveries (Global)</th>\n",
              "      <th>Solar Deployed (Global)</th>\n",
              "      <th>Storage Deployed (Global)</th>\n",
              "      <th>Revenues</th>\n",
              "      <th>Operating expenses</th>\n",
              "      <th>Net loss</th>\n",
              "      <th>Total assets</th>\n",
              "      <th>Total Liabilities</th>\n",
              "      <th>Capital expenditures</th>\n",
              "      <th>Cash and Investment</th>\n",
              "      <th>Total Production Units</th>\n",
              "      <th>Unit Sales</th>\n",
              "    </tr>\n",
              "  </thead>\n",
              "  <tbody>\n",
              "    <tr>\n",
              "      <th>0</th>\n",
              "      <td>0.0</td>\n",
              "      <td>0.0</td>\n",
              "      <td>0.0</td>\n",
              "      <td>0.0</td>\n",
              "      <td>49030.0</td>\n",
              "      <td>65374.0</td>\n",
              "      <td>-48941.0</td>\n",
              "      <td>646155.0</td>\n",
              "      <td>297703.0</td>\n",
              "      <td>-20476.0</td>\n",
              "      <td>100655.0</td>\n",
              "      <td>3.0</td>\n",
              "      <td>0.0</td>\n",
              "    </tr>\n",
              "    <tr>\n",
              "      <th>1</th>\n",
              "      <td>0.0</td>\n",
              "      <td>0.0</td>\n",
              "      <td>0.0</td>\n",
              "      <td>0.0</td>\n",
              "      <td>58171.0</td>\n",
              "      <td>77247.0</td>\n",
              "      <td>-58903.0</td>\n",
              "      <td>646155.0</td>\n",
              "      <td>297703.0</td>\n",
              "      <td>-54314.0</td>\n",
              "      <td>319380.0</td>\n",
              "      <td>3.0</td>\n",
              "      <td>0.0</td>\n",
              "    </tr>\n",
              "    <tr>\n",
              "      <th>2</th>\n",
              "      <td>0.0</td>\n",
              "      <td>0.0</td>\n",
              "      <td>0.0</td>\n",
              "      <td>0.0</td>\n",
              "      <td>57666.0</td>\n",
              "      <td>81701.0</td>\n",
              "      <td>-65078.0</td>\n",
              "      <td>700250.0</td>\n",
              "      <td>406132.0</td>\n",
              "      <td>-68844.0</td>\n",
              "      <td>213328.0</td>\n",
              "      <td>3.0</td>\n",
              "      <td>0.0</td>\n",
              "    </tr>\n",
              "    <tr>\n",
              "      <th>3</th>\n",
              "      <td>0.0</td>\n",
              "      <td>0.0</td>\n",
              "      <td>0.0</td>\n",
              "      <td>0.0</td>\n",
              "      <td>39375.0</td>\n",
              "      <td>88762.0</td>\n",
              "      <td>-81488.0</td>\n",
              "      <td>713448.0</td>\n",
              "      <td>489403.0</td>\n",
              "      <td>-54262.0</td>\n",
              "      <td>255266.0</td>\n",
              "      <td>3.0</td>\n",
              "      <td>0.0</td>\n",
              "    </tr>\n",
              "    <tr>\n",
              "      <th>4</th>\n",
              "      <td>0.0</td>\n",
              "      <td>0.0</td>\n",
              "      <td>0.0</td>\n",
              "      <td>0.0</td>\n",
              "      <td>30167.0</td>\n",
              "      <td>98973.0</td>\n",
              "      <td>-89873.0</td>\n",
              "      <td>761100.0</td>\n",
              "      <td>607226.0</td>\n",
              "      <td>-67987.0</td>\n",
              "      <td>218570.0</td>\n",
              "      <td>3.0</td>\n",
              "      <td>0.0</td>\n",
              "    </tr>\n",
              "  </tbody>\n",
              "</table>\n",
              "</div>"
            ],
            "text/plain": [
              "   Total Production (Global)  ...  Unit Sales\n",
              "0                        0.0  ...         0.0\n",
              "1                        0.0  ...         0.0\n",
              "2                        0.0  ...         0.0\n",
              "3                        0.0  ...         0.0\n",
              "4                        0.0  ...         0.0\n",
              "\n",
              "[5 rows x 13 columns]"
            ]
          },
          "execution_count": 88,
          "metadata": {},
          "output_type": "execute_result"
        }
      ],
      "source": [
        "#combining the grouped columns\n",
        "cols_to_use = df_produnits_cont.columns.difference(df_production.columns)\n",
        "df_tesla_prod= pd.merge(df_production, df_produnits_cont[cols_to_use], left_index=True, right_index=True, how='outer')\n",
        "\n",
        "#dropping the date column\n",
        "df_tesla_prod.drop(columns=\"Date\",inplace=True)\n",
        "df_tesla_prod.head()"
      ]
    },
    {
      "cell_type": "code",
      "execution_count": null,
      "metadata": {
        "colab": {
          "base_uri": "https://localhost:8080/",
          "height": 1000
        },
        "id": "ALYZurd5I9AV",
        "outputId": "38268198-1718-434d-f772-e4c321ebf82e"
      },
      "outputs": [
        {
          "data": {
            "text/plain": [
              "<matplotlib.axes._subplots.AxesSubplot at 0x7f817059e510>"
            ]
          },
          "execution_count": 89,
          "metadata": {},
          "output_type": "execute_result"
        },
        {
          "data": {
            "image/png": "[encoded data removed]",
            "text/plain": [
              "<Figure size 1152x1152 with 2 Axes>"
            ]
          },
          "metadata": {
            "needs_background": "light"
          },
          "output_type": "display_data"
        }
      ],
      "source": [
        "#changing negative values of features to positive\n",
        "df_tesla_prod[\"Capital expenditures\"]=-df_tesla_prod[\"Capital expenditures\"]\n",
        "df_tesla_prod[\"Net loss\"]=-df_tesla_prod[\"Net loss\"]\n",
        "\n",
        "#plotting the correlation matrix\n",
        "fig = plt.figure(figsize= (16,16))\n",
        "sns.heatmap(df_tesla_prod.corr(), annot=False, vmax=1, cmap='viridis', square=False)"
      ]
    },
    {
      "cell_type": "markdown",
      "metadata": {
        "id": "3r7WRa2xI9AV"
      },
      "source": [
        "<b> Observations: </b>\n",
        "1. The Capital Expenditure is correlated to all the financial features. \n",
        "2. Solar Deployed has no correlation with other features, we can drop it.\n",
        "3. Net Loss has no correlation with any feature.\n",
        "4. Cash and Investment show partial correlation.\n",
        "5. Total assets is directly correlated with the revenues and liabilities.\n",
        "6. Unit sales seems related to the revenues, but not very highly correlated with the capital expenditures.\n",
        "7. We are assuming that the cash and investment (which are short term investments) will stay constant.\n",
        "\n",
        "We cannot conclude on the features to drop just yet. We will go ahead and drop the unwanted features while doing the regression."
      ]
    },
    {
      "cell_type": "code",
      "execution_count": null,
      "metadata": {
        "id": "Vv0-kJrzI9AV"
      },
      "outputs": [],
      "source": [
        "#selecting the dependent and independent variables\n",
        "y=df_tesla_prod[\"Capital expenditures\"]\n",
        "df_tesla_prod.drop(columns=\"Capital expenditures\",inplace=True)\n",
        "X=df_tesla_prod.copy()\n",
        "\n",
        "#standardize the data\n",
        "features_tesla=[\"Total Production (Global)\",\"Total Deliveries (Global)\",\n",
        "                \"Solar Deployed (Global)\",\"Storage Deployed (Global)\",\n",
        "                \"Revenues\",\"Operating expenses\",\"Total Production Units\",\"Unit Sales\",\n",
        "                \"Net loss\",\"Total assets\",\"Total Liabilities\",\"Cash and Investment\"]\n",
        "\n",
        "df_fitted=pd.DataFrame(df_tesla_prod[features_tesla])\n",
        "minmax=MinMaxScaler()\n",
        "X[features_tesla]=minmax.fit_transform(df_fitted)\n",
        "\n",
        "#train-test-split\n",
        "x_train,x_test,y_train,y_test=train_test_split(X, y, test_size=0.2, random_state=42)"
      ]
    },
    {
      "cell_type": "code",
      "execution_count": null,
      "metadata": {
        "colab": {
          "base_uri": "https://localhost:8080/",
          "height": 654
        },
        "id": "P9bFJhI4I9AW",
        "outputId": "3dd31978-b3af-4c6e-f8e3-eef19499559d"
      },
      "outputs": [
        {
          "data": {
            "text/html": [
              "<table class=\"simpletable\">\n",
              "<caption>OLS Regression Results</caption>\n",
              "<tr>\n",
              "  <th>Dep. Variable:</th>    <td>Capital expenditures</td> <th>  R-squared (uncentered):</th>      <td>   0.957</td>\n",
              "</tr>\n",
              "<tr>\n",
              "  <th>Model:</th>                     <td>OLS</td>         <th>  Adj. R-squared (uncentered):</th> <td>   0.941</td>\n",
              "</tr>\n",
              "<tr>\n",
              "  <th>Method:</th>               <td>Least Squares</td>    <th>  F-statistic:       </th>          <td>   57.74</td>\n",
              "</tr>\n",
              "<tr>\n",
              "  <th>Date:</th>               <td>Tue, 07 Dec 2021</td>   <th>  Prob (F-statistic):</th>          <td>8.97e-18</td>\n",
              "</tr>\n",
              "<tr>\n",
              "  <th>Time:</th>                   <td>18:48:16</td>       <th>  Log-Likelihood:    </th>          <td> -566.26</td>\n",
              "</tr>\n",
              "<tr>\n",
              "  <th>No. Observations:</th>        <td>    43</td>        <th>  AIC:               </th>          <td>   1157.</td>\n",
              "</tr>\n",
              "<tr>\n",
              "  <th>Df Residuals:</th>            <td>    31</td>        <th>  BIC:               </th>          <td>   1178.</td>\n",
              "</tr>\n",
              "<tr>\n",
              "  <th>Df Model:</th>                <td>    12</td>        <th>                     </th>              <td> </td>   \n",
              "</tr>\n",
              "<tr>\n",
              "  <th>Covariance Type:</th>        <td>nonrobust</td>      <th>                     </th>              <td> </td>   \n",
              "</tr>\n",
              "</table>\n",
              "<table class=\"simpletable\">\n",
              "<tr>\n",
              "              <td></td>                 <th>coef</th>     <th>std err</th>      <th>t</th>      <th>P>|t|</th>  <th>[0.025</th>    <th>0.975]</th>  \n",
              "</tr>\n",
              "<tr>\n",
              "  <th>Total Production (Global)</th> <td>-1.308e+06</td> <td> 1.41e+06</td> <td>   -0.928</td> <td> 0.361</td> <td>-4.18e+06</td> <td> 1.57e+06</td>\n",
              "</tr>\n",
              "<tr>\n",
              "  <th>Total Deliveries (Global)</th> <td>-4.323e+06</td> <td> 3.01e+06</td> <td>   -1.438</td> <td> 0.160</td> <td>-1.05e+07</td> <td> 1.81e+06</td>\n",
              "</tr>\n",
              "<tr>\n",
              "  <th>Solar Deployed (Global)</th>   <td> 6.067e+04</td> <td> 1.97e+05</td> <td>    0.309</td> <td> 0.760</td> <td> -3.4e+05</td> <td> 4.61e+05</td>\n",
              "</tr>\n",
              "<tr>\n",
              "  <th>Storage Deployed (Global)</th> <td> 4.264e+05</td> <td> 3.36e+05</td> <td>    1.269</td> <td> 0.214</td> <td>-2.59e+05</td> <td> 1.11e+06</td>\n",
              "</tr>\n",
              "<tr>\n",
              "  <th>Revenues</th>                  <td> 2.579e+05</td> <td> 1.53e+06</td> <td>    0.169</td> <td> 0.867</td> <td>-2.85e+06</td> <td> 3.37e+06</td>\n",
              "</tr>\n",
              "<tr>\n",
              "  <th>Operating expenses</th>        <td> 8.856e+05</td> <td> 4.36e+05</td> <td>    2.031</td> <td> 0.051</td> <td>-3539.980</td> <td> 1.77e+06</td>\n",
              "</tr>\n",
              "<tr>\n",
              "  <th>Net loss</th>                  <td> 9.139e+04</td> <td>    5e+04</td> <td>    1.827</td> <td> 0.077</td> <td>-1.06e+04</td> <td> 1.93e+05</td>\n",
              "</tr>\n",
              "<tr>\n",
              "  <th>Total assets</th>              <td> 4.029e+06</td> <td> 1.17e+06</td> <td>    3.439</td> <td> 0.002</td> <td> 1.64e+06</td> <td> 6.42e+06</td>\n",
              "</tr>\n",
              "<tr>\n",
              "  <th>Total Liabilities</th>         <td>-2.173e+06</td> <td> 7.51e+05</td> <td>   -2.893</td> <td> 0.007</td> <td> -3.7e+06</td> <td>-6.41e+05</td>\n",
              "</tr>\n",
              "<tr>\n",
              "  <th>Cash and Investment</th>       <td> 2.709e+05</td> <td> 2.31e+05</td> <td>    1.172</td> <td> 0.250</td> <td>   -2e+05</td> <td> 7.42e+05</td>\n",
              "</tr>\n",
              "<tr>\n",
              "  <th>Total Production Units</th>    <td>-5.918e+04</td> <td> 3.45e+05</td> <td>   -0.172</td> <td> 0.865</td> <td>-7.62e+05</td> <td> 6.43e+05</td>\n",
              "</tr>\n",
              "<tr>\n",
              "  <th>Unit Sales</th>                <td> 3.564e+06</td> <td>  2.3e+06</td> <td>    1.552</td> <td> 0.131</td> <td>-1.12e+06</td> <td> 8.25e+06</td>\n",
              "</tr>\n",
              "</table>\n",
              "<table class=\"simpletable\">\n",
              "<tr>\n",
              "  <th>Omnibus:</th>       <td> 2.666</td> <th>  Durbin-Watson:     </th> <td>   1.722</td>\n",
              "</tr>\n",
              "<tr>\n",
              "  <th>Prob(Omnibus):</th> <td> 0.264</td> <th>  Jarque-Bera (JB):  </th> <td>   1.639</td>\n",
              "</tr>\n",
              "<tr>\n",
              "  <th>Skew:</th>          <td> 0.416</td> <th>  Prob(JB):          </th> <td>   0.441</td>\n",
              "</tr>\n",
              "<tr>\n",
              "  <th>Kurtosis:</th>      <td> 3.473</td> <th>  Cond. No.          </th> <td>    221.</td>\n",
              "</tr>\n",
              "</table><br/><br/>Warnings:<br/>[1] Standard Errors assume that the covariance matrix of the errors is correctly specified."
            ],
            "text/plain": [
              "<class 'statsmodels.iolib.summary.Summary'>\n",
              "\"\"\"\n",
              "                                  OLS Regression Results                                 \n",
              "=========================================================================================\n",
              "Dep. Variable:     Capital expenditures   R-squared (uncentered):                   0.957\n",
              "Model:                              OLS   Adj. R-squared (uncentered):              0.941\n",
              "Method:                   Least Squares   F-statistic:                              57.74\n",
              "Date:                  Tue, 07 Dec 2021   Prob (F-statistic):                    8.97e-18\n",
              "Time:                          18:48:16   Log-Likelihood:                         -566.26\n",
              "No. Observations:                    43   AIC:                                      1157.\n",
              "Df Residuals:                        31   BIC:                                      1178.\n",
              "Df Model:                            12                                                  \n",
              "Covariance Type:              nonrobust                                                  \n",
              "=============================================================================================\n",
              "                                coef    std err          t      P>|t|      [0.025      0.975]\n",
              "---------------------------------------------------------------------------------------------\n",
              "Total Production (Global) -1.308e+06   1.41e+06     -0.928      0.361   -4.18e+06    1.57e+06\n",
              "Total Deliveries (Global) -4.323e+06   3.01e+06     -1.438      0.160   -1.05e+07    1.81e+06\n",
              "Solar Deployed (Global)    6.067e+04   1.97e+05      0.309      0.760    -3.4e+05    4.61e+05\n",
              "Storage Deployed (Global)  4.264e+05   3.36e+05      1.269      0.214   -2.59e+05    1.11e+06\n",
              "Revenues                   2.579e+05   1.53e+06      0.169      0.867   -2.85e+06    3.37e+06\n",
              "Operating expenses         8.856e+05   4.36e+05      2.031      0.051   -3539.980    1.77e+06\n",
              "Net loss                   9.139e+04      5e+04      1.827      0.077   -1.06e+04    1.93e+05\n",
              "Total assets               4.029e+06   1.17e+06      3.439      0.002    1.64e+06    6.42e+06\n",
              "Total Liabilities         -2.173e+06   7.51e+05     -2.893      0.007    -3.7e+06   -6.41e+05\n",
              "Cash and Investment        2.709e+05   2.31e+05      1.172      0.250      -2e+05    7.42e+05\n",
              "Total Production Units    -5.918e+04   3.45e+05     -0.172      0.865   -7.62e+05    6.43e+05\n",
              "Unit Sales                 3.564e+06    2.3e+06      1.552      0.131   -1.12e+06    8.25e+06\n",
              "==============================================================================\n",
              "Omnibus:                        2.666   Durbin-Watson:                   1.722\n",
              "Prob(Omnibus):                  0.264   Jarque-Bera (JB):                1.639\n",
              "Skew:                           0.416   Prob(JB):                        0.441\n",
              "Kurtosis:                       3.473   Cond. No.                         221.\n",
              "==============================================================================\n",
              "\n",
              "Warnings:\n",
              "[1] Standard Errors assume that the covariance matrix of the errors is correctly specified.\n",
              "\"\"\""
            ]
          },
          "execution_count": 91,
          "metadata": {},
          "output_type": "execute_result"
        }
      ],
      "source": [
        "#doing basic regression and getting its statistical output\n",
        "results=sm.OLS(y,X).fit()\n",
        "results.summary()"
      ]
    },
    {
      "cell_type": "markdown",
      "metadata": {
        "id": "WQDY3_59I9AW"
      },
      "source": [
        "We have taken a significance level of 10%. From above, we can view the parameters associated with an Ordinary Linear Regression model. We have the coefficients, the P-values etc. In accordance to our significance level, we are dropping every feature that has a p-value above ~0.1.\n",
        "\n",
        "Parameters under consideration: Total Deliveries, Operating Expense, Net Loss, Total Assets, Total liabilities, Unit Sales."
      ]
    },
    {
      "cell_type": "code",
      "execution_count": null,
      "metadata": {
        "id": "lznIf1DsI9AW"
      },
      "outputs": [],
      "source": [
        "X=X[[\"Operating expenses\",\"Total assets\",\"Total Liabilities\",\"Unit Sales\",\"Net loss\"]]\n",
        "\n",
        "#train-test-split\n",
        "x_train,x_test,y_train,y_test=train_test_split(X, y, test_size=0.2, random_state=42)\n",
        "\n",
        "Model=[\"Lasso Regression\",\"Ridge Regression\",\"ElasticNetCV\",\"Random Forest Regressor\",\"Gradient Boosting Regressor\"]\n",
        "Scores=[]"
      ]
    },
    {
      "cell_type": "code",
      "execution_count": null,
      "metadata": {
        "colab": {
          "base_uri": "https://localhost:8080/"
        },
        "id": "u_YpTj59I9AW",
        "outputId": "9f8cb0f3-ef25-4aba-cb74-4a02861ab3d0"
      },
      "outputs": [
        {
          "name": "stdout",
          "output_type": "stream",
          "text": [
            "[  523069.17530238  1700527.31905793       -0.         -2128391.79493234\n",
            " -1741490.25315872]\n",
            "Using 5 splits, <class 'sklearn.linear_model._coordinate_descent.Lasso'> got a best validation score of 0.588238 +- 0.4033121691371535, with the parameters {'alpha': 100}.\n"
          ]
        }
      ],
      "source": [
        "#apply linear regression models- Lasso\n",
        "gs_params={'alpha':(0.0001,0.001,0.01,0.1,1,10,100,1000)}\n",
        "gsl = GridSearchCV(Lasso(), param_grid=gs_params, scoring=\"r2\", cv=5)\n",
        "gsl.fit(x_train, y_train)\n",
        "gsl.best_params_\n",
        "print(gsl.best_estimator_.coef_)\n",
        "\n",
        "Scores.append(gsl.score(x_test, y_test))\n",
        "\n",
        "# Print information about the grid search\n",
        "print(f\"Using {gsl.n_splits_} splits, {type(gsl.best_estimator_)} got a best validation score of {gsl.best_score_:4f} +- {gsl.cv_results_['std_test_score'][gsl.best_index_]}, with the parameters {gsl.best_params_}.\")"
      ]
    },
    {
      "cell_type": "code",
      "execution_count": null,
      "metadata": {
        "colab": {
          "base_uri": "https://localhost:8080/"
        },
        "id": "62kbGTJ2I9AX",
        "outputId": "651f260d-875d-4f0c-eac0-f348a8f18405"
      },
      "outputs": [
        {
          "name": "stdout",
          "output_type": "stream",
          "text": [
            "Using 5 splits, <class 'sklearn.linear_model._ridge.Ridge'> got a best validation score of 0.588071 +- 0.4117284955592678, with the parameters {'alpha': 0.01}.\n"
          ]
        }
      ],
      "source": [
        "#ridge regression\n",
        "gs_params={'alpha':(0.0001,0.001,0.01,0.1,1,10,100,1000)}\n",
        "gsr = GridSearchCV(Ridge(), param_grid=gs_params, scoring=\"r2\", cv=5)\n",
        "gsr.fit(x_train, y_train)\n",
        "gsr.best_params_\n",
        "\n",
        "Scores.append(gsr.score(x_test, y_test))\n",
        "\n",
        "# Print information about the grid search\n",
        "print(f\"Using {gsr.n_splits_} splits, {type(gsr.best_estimator_)} got a best validation score of {gsr.best_score_:4f} +- {gsr.cv_results_['std_test_score'][gsr.best_index_]}, with the parameters {gsr.best_params_}.\")"
      ]
    },
    {
      "cell_type": "code",
      "execution_count": null,
      "metadata": {
        "colab": {
          "base_uri": "https://localhost:8080/"
        },
        "id": "XFiLUIgjI9AX",
        "outputId": "6fcad99e-4c42-4252-b186-d2565dfb60b4"
      },
      "outputs": [
        {
          "name": "stdout",
          "output_type": "stream",
          "text": [
            "Using 5 splits, <class 'sklearn.linear_model._coordinate_descent.ElasticNet'> got a best validation score of 0.594247 +- 0.40081399908252807, with the parameters {'alpha': 0.001, 'l1_ratio': 0.8}.\n"
          ]
        }
      ],
      "source": [
        "#Elastic Net CV Regression model\n",
        "gs_params={'alpha':(0.0001,0.001,0.01,0.1,1,10,100,1000),'l1_ratio': np.arange(0, 1, 0.1)}\n",
        "gsen = GridSearchCV(ElasticNet(random_state=0), param_grid=gs_params, scoring=\"r2\", cv=5)\n",
        "gsen.fit(x_train, y_train)\n",
        "gsen.best_params_\n",
        "\n",
        "Scores.append(gsen.score(x_test, y_test))\n",
        "\n",
        "# Print information about the grid search\n",
        "print(f\"Using {gsen.n_splits_} splits, {type(gsen.best_estimator_)} got a best validation score of {gsen.best_score_:4f} +- {gsen.cv_results_['std_test_score'][gsen.best_index_]}, with the parameters {gsen.best_params_}.\")\n"
      ]
    },
    {
      "cell_type": "code",
      "execution_count": null,
      "metadata": {
        "colab": {
          "base_uri": "https://localhost:8080/"
        },
        "id": "_3jfmruSI9AX",
        "outputId": "01c5e70c-4f31-4f8d-8f88-faff9f00d67b"
      },
      "outputs": [
        {
          "name": "stdout",
          "output_type": "stream",
          "text": [
            "Using 5 splits, <class 'sklearn.ensemble._forest.RandomForestRegressor'> got a best validation score of 0.690204 +- 0.08260811530556379, with the parameters {'max_depth': 5, 'n_estimators': 50}.\n"
          ]
        }
      ],
      "source": [
        "#Random Forest Regressor Model\n",
        "gs_params = {'n_estimators': np.arange(50, 250, 25),'max_depth': list(np.arange(2, 8, 1)) + [None],}\n",
        "gsrf = GridSearchCV(RandomForestRegressor(random_state=0), gs_params, cv=5)\n",
        "gsrf.fit(x_train, y_train)\n",
        "gsrf.best_params_\n",
        "\n",
        "Scores.append(gsrf.score(x_test, y_test))\n",
        "\n",
        "# Print information about the grid search\n",
        "print(f\"Using {gsrf.n_splits_} splits, {type(gsrf.best_estimator_)} got a best validation score of {gsrf.best_score_:4f} +- {gsrf.cv_results_['std_test_score'][gsrf.best_index_]}, with the parameters {gsrf.best_params_}.\")"
      ]
    },
    {
      "cell_type": "code",
      "execution_count": null,
      "metadata": {
        "colab": {
          "base_uri": "https://localhost:8080/"
        },
        "id": "PqELcNZeI9AX",
        "outputId": "7a8973af-b8d9-4a6e-cd75-37ec43e001ac"
      },
      "outputs": [
        {
          "name": "stdout",
          "output_type": "stream",
          "text": [
            "Using 5 splits, <class 'sklearn.ensemble._gb.GradientBoostingRegressor'> got a best validation score of 0.675989 +- 0.18344645501265502, with the parameters {'learning_rate': 0.31622776601683794, 'max_depth': 3, 'n_estimators': 300, 'n_iter_no_change': 50}.\n"
          ]
        }
      ],
      "source": [
        "#Gradient Boosting Regression Model\n",
        "gs_params = {'n_estimators': np.arange(50, 500, 50),\n",
        "             'learning_rate': np.logspace(-2, 0, 5),\n",
        "             'max_depth': [3],\n",
        "             'n_iter_no_change': [50]}\n",
        "gsgb = GridSearchCV(GradientBoostingRegressor(random_state=0), gs_params, cv=5)\n",
        "gsgb.fit(x_train, y_train)\n",
        "gsgb.best_params_\n",
        "\n",
        "Scores.append(gsgb.score(x_test, y_test))\n",
        "\n",
        "# Print information about the grid search\n",
        "print(f\"Using {gsgb.n_splits_} splits, {type(gsgb.best_estimator_)} got a best validation score of {gsgb.best_score_:4f} +- {gsgb.cv_results_['std_test_score'][gsgb.best_index_]}, with the parameters {gsgb.best_params_}.\")"
      ]
    },
    {
      "cell_type": "code",
      "execution_count": null,
      "metadata": {
        "colab": {
          "base_uri": "https://localhost:8080/",
          "height": 206
        },
        "id": "1zaWtac9I9AY",
        "outputId": "311f59e9-d42f-4d12-c8dd-e6d0493b1e0f"
      },
      "outputs": [
        {
          "data": {
            "text/html": [
              "<div>\n",
              "<style scoped>\n",
              "    .dataframe tbody tr th:only-of-type {\n",
              "        vertical-align: middle;\n",
              "    }\n",
              "\n",
              "    .dataframe tbody tr th {\n",
              "        vertical-align: top;\n",
              "    }\n",
              "\n",
              "    .dataframe thead th {\n",
              "        text-align: right;\n",
              "    }\n",
              "</style>\n",
              "<table border=\"1\" class=\"dataframe\">\n",
              "  <thead>\n",
              "    <tr style=\"text-align: right;\">\n",
              "      <th></th>\n",
              "      <th>Model</th>\n",
              "      <th>Scores</th>\n",
              "    </tr>\n",
              "  </thead>\n",
              "  <tbody>\n",
              "    <tr>\n",
              "      <th>0</th>\n",
              "      <td>Lasso Regression</td>\n",
              "      <td>0.918584</td>\n",
              "    </tr>\n",
              "    <tr>\n",
              "      <th>1</th>\n",
              "      <td>Ridge Regression</td>\n",
              "      <td>0.913942</td>\n",
              "    </tr>\n",
              "    <tr>\n",
              "      <th>2</th>\n",
              "      <td>ElasticNetCV</td>\n",
              "      <td>0.916252</td>\n",
              "    </tr>\n",
              "    <tr>\n",
              "      <th>3</th>\n",
              "      <td>Random Forest Regressor</td>\n",
              "      <td>0.583399</td>\n",
              "    </tr>\n",
              "    <tr>\n",
              "      <th>4</th>\n",
              "      <td>Gradient Boosting Regressor</td>\n",
              "      <td>0.590822</td>\n",
              "    </tr>\n",
              "  </tbody>\n",
              "</table>\n",
              "</div>"
            ],
            "text/plain": [
              "                         Model    Scores\n",
              "0             Lasso Regression  0.918584\n",
              "1             Ridge Regression  0.913942\n",
              "2                 ElasticNetCV  0.916252\n",
              "3      Random Forest Regressor  0.583399\n",
              "4  Gradient Boosting Regressor  0.590822"
            ]
          },
          "execution_count": 98,
          "metadata": {},
          "output_type": "execute_result"
        }
      ],
      "source": [
        "#getting an output of the scores\n",
        "df_scores=pd.DataFrame({\"Model\":Model,\n",
        "                       \"Scores\":Scores})\n",
        "df_scores.head()"
      ]
    },
    {
      "cell_type": "markdown",
      "metadata": {
        "id": "WRB6YxjxI9AY"
      },
      "source": [
        "Based on our estimates, the Lasso Regression gave us the best model with an accuracy score of 0.91. This model looks appropriate to us fom all aspects of study, and thus we will use this prediction model for our future decisions."
      ]
    },
    {
      "cell_type": "markdown",
      "metadata": {
        "id": "cPPWs1ZdI9AY"
      },
      "source": [
        "<b> Results </b>"
      ]
    },
    {
      "cell_type": "markdown",
      "metadata": {
        "id": "2PyyOQBmI9AY"
      },
      "source": [
        "Asssumptions:\n",
        "1. We have an ambitious project of increasing the sales by 5% of what it was last quarter. We significantly want to increase it by 2% after that.\n",
        "2. We assume that the total liabilities and assets remain the same initially.\n",
        "3. The operating expense we will increase by a few percent.\n",
        "4. Assuming that the Net Loss is the same as for the last quarter. "
      ]
    },
    {
      "cell_type": "markdown",
      "metadata": {
        "id": "MeGvkYT-I9AY"
      },
      "source": [
        "<b> (A) Prediction A: Keeping a fixed sales goal,  Net Loss, Liabilities and Assets as well as incresing Operating Expenses by 5 %, how the Capital Expenditure numbers are influented? </b>"
      ]
    },
    {
      "cell_type": "code",
      "execution_count": null,
      "metadata": {
        "colab": {
          "base_uri": "https://localhost:8080/",
          "height": 510
        },
        "id": "FWyAn8OSI9AZ",
        "outputId": "2df189d5-11c5-421b-c6a6-c75d8eb6094f"
      },
      "outputs": [
        {
          "name": "stdout",
          "output_type": "stream",
          "text": [
            "[1477042.44203229 1535161.23928811 1593280.03654393 1651398.83379975\n",
            " 1709517.63105557 1767636.42831139 1825755.22556721 1883874.02282304\n",
            " 1941992.82007886 2000111.61733468]\n"
          ]
        },
        {
          "data": {
            "image/png": "[encoded data removed]",
            "text/plain": [
              "<Figure size 504x504 with 1 Axes>"
            ]
          },
          "metadata": {
            "needs_background": "light"
          },
          "output_type": "display_data"
        }
      ],
      "source": [
        "#adding new values for prediction\n",
        "X_new=df_tesla_prod[[\"Operating expenses\",\"Total assets\",\"Total Liabilities\",\"Unit Sales\", \"Net loss\"]]\n",
        "\n",
        "#dictionary of new values\n",
        "Sales=[237431.0*1.05,237431.0*1.05,237431.0*1.05,237431.0*1.05,237431.0*1.05,237431.0*1.05,237431.0*1.05,237431.0*1.05,237431.0*1.05,237431.0*1.05]\n",
        "Liability=[29340000.0,29340000.0,29340000.0,29340000.0,29340000.0,29340000.0,29340000.0,29340000.0,29340000.0,29340000.0]\n",
        "Assets=[5.783400e+07,5.783400e+07,5.783400e+07,5.783400e+07,5.783400e+07,5.783400e+07,5.783400e+07,5.783400e+07,5.783400e+07,5.783400e+07]\n",
        "OE_new=[1.656000e+06*(1.10),1.656000e+06*(1.15),1.656000e+06*(1.20),1.656000e+06*(1.25),1.656000e+06*(1.30),1.656000e+06*(1.35),1.656000e+06*(1.40),1.656000e+06*(1.45),1.656000e+06*(1.50),1.656000e+06*(1.55)]\n",
        "Net_loss=[89873.0,89873.0, 89873.0, 89873.0, 89873.0, 89873.0, 89873.0, 89873.0, 89873.0, 89873.0]\n",
        "\n",
        "#data frame of new values\n",
        "X_new_df=pd.DataFrame({\"Operating expenses\":OE_new,\n",
        "                       \"Total assets\":Assets,\n",
        "                       \"Total Liabilities\":Liability,\n",
        "                       \"Unit Sales\":Sales,\n",
        "                      \"Net Loss\": Net_loss})\n",
        "\n",
        "features=[\"Operating expenses\",\"Total assets\",\"Total Liabilities\",\"Unit Sales\",\"Net Loss\"]\n",
        "minmax=MinMaxScaler()\n",
        "X_new_df[features]=minmax.fit_transform(X_new_df[features])\n",
        "\n",
        "y_pred_a=gsl.predict(X_new_df)\n",
        "print(y_pred_a)\n",
        "\n",
        "X_new_df[features]=minmax.inverse_transform(X_new_df[features])\n",
        "\n",
        "plt.figure(figsize=(7,7))\n",
        "plt.scatter(X_new_df[\"Operating expenses\"],y_pred_a)\n",
        "plt.xlabel(\"Operating Expenses\")\n",
        "plt.ylabel(\"Capital Expenditures\")\n",
        "plt.title(\"Graph depicting the predicted Capital Expenditures alongside the Operating Expenses\")\n",
        "plt.show()"
      ]
    },
    {
      "cell_type": "markdown",
      "metadata": {
        "id": "pCkTcb0bI9AZ"
      },
      "source": [
        "<b> Observation: </b>\n",
        "Looking at the graph above we see that our predictions are distributed linearly. As Capital Expenditures and Operating Expenses have high positive correlation, increase in one component's value, is infulencing others increase."
      ]
    },
    {
      "cell_type": "markdown",
      "metadata": {
        "id": "xD7iKI54I9AZ"
      },
      "source": [
        "<b> (B) Prediction B: Keeping a fixed Liabilities and Assets, Net Loss values and increasing Sales by 1% as well as Operating Expenses by 2%, how Capital Expenditure is influenced? </b>"
      ]
    },
    {
      "cell_type": "code",
      "execution_count": null,
      "metadata": {
        "colab": {
          "base_uri": "https://localhost:8080/",
          "height": 510
        },
        "id": "kh3HdewSI9AZ",
        "outputId": "1b0758bc-6def-4859-e0fb-98f01a9d6d0e"
      },
      "outputs": [
        {
          "name": "stdout",
          "output_type": "stream",
          "text": [
            "[1477042.44203229 1298673.26207341 1120304.08211452  941934.90215564\n",
            "  763565.72219675  585196.54223786  406827.36227898  228458.1823201\n",
            "   50089.00236122 -128280.17759767]\n"
          ]
        },
        {
          "data": {
            "image/png": "[encoded data removed]",
            "text/plain": [
              "<Figure size 504x504 with 1 Axes>"
            ]
          },
          "metadata": {
            "needs_background": "light"
          },
          "output_type": "display_data"
        }
      ],
      "source": [
        "#getting new values\n",
        "X_new=df_tesla_prod[[\"Operating expenses\",\"Total assets\",\"Total Liabilities\",\"Unit Sales\", \"Net loss\"]]\n",
        "\n",
        "Sales=[237431.0*1.05,237431.0*1.06,237431.0*1.07,237431.0*1.08,237431.0*1.09,237431.0*1.1,237431.0*1.11,237431.0*1.12,237431.0*1.13,237431.0*1.14]\n",
        "Liability=[29340000.0,29340000,29340000.0,29340000.0,29340000.0,29340000.0,29340000.0,29340000.0,29340000.0,29340000.0]\n",
        "Assets=[5.783400e+07,5.783400e+07,5.783400e+07,5.783400e+07,5.783400e+07,5.783400e+07,5.783400e+07,5.783400e+07,5.783400e+07,5.783400e+07]\n",
        "OE_new=[1.656000e+06*1.05,1.656000e+06*1.07,1.656000e+06*1.09,1.656000e+06*1.11,1.656000e+06*1.13,1.656000e+06*1.15,1.656000e+06*1.17,1.656000e+06*1.19,1.656000e+06*1.21,1.656000e+06*1.23]\n",
        "Net_loss=[89873.0,89873.0, 89873.0, 89873.0, 89873.0,89873.0, 89873.0, 89873.0, 89873.0,89873.0]\n",
        "\n",
        "X_new_df=pd.DataFrame({\"Operating expenses\":OE_new,\n",
        "                       \"Total assets\":Assets,\n",
        "                       \"Total Liabilities\":Liability,\n",
        "                       \"Unit Sales\":Sales,\n",
        "                      \"Net Loss\":Net_loss})\n",
        "\n",
        "features=[\"Operating expenses\",\"Total assets\",\"Total Liabilities\",\"Unit Sales\", \"Net Loss\"]\n",
        "minmax=MinMaxScaler()\n",
        "X_new_df[features]=minmax.fit_transform(X_new_df[features])\n",
        "\n",
        "y_pred_a=gsl.predict(X_new_df)\n",
        "print(y_pred_a)\n",
        "\n",
        "X_new_df[features]=minmax.inverse_transform(X_new_df[features])\n",
        "\n",
        "plt.figure(figsize=(7,7))\n",
        "plt.scatter(X_new_df[\"Unit Sales\"],y_pred_a)\n",
        "plt.xlabel(\"Unit Sales\")\n",
        "plt.ylabel(\"Capital Expenditures\")\n",
        "plt.title(\"Graph depicting the predicted Capital Expenditures alongside the increasing Unit Sales\")\n",
        "plt.show()"
      ]
    },
    {
      "cell_type": "markdown",
      "metadata": {
        "id": "atbW-LQRI9Aa"
      },
      "source": [
        "<b> Observations and Conclusion </b>\n",
        "\n",
        "Looking at the graph above we observe that Tesla's Capital Expenditure is decreasing while Unit sales are increasing by 1%. At a sale margin of almost 13% increase from the last quarter value, keeping the other factors constant, the value of the capital expenditures goes down to negative. A plausible explanation of this comes from the fact that as sales increase, the revenue generated increases too as a result, which would decrease the capital expenditure (coming out of Tesla's pockets). Eventually, it goes under good profit under ideal market conditions. Thus, our advice to the CFO would be to aim at a 13% increase in his/her company Electric Vehicle sales for better profit margins. \n",
        "\n",
        "As seen from the correlation analysis, using the climate change statistics for marketing Tesla Electric Vehicles is a good approach as share prices of Tesla seem highly correlated to this aspect."
      ]
    },
    {
      "cell_type": "markdown",
      "metadata": {
        "id": "ZHwDE5R5I9Aa"
      },
      "source": [
        "<b> Acknowledgement </b>\n",
        "\n",
        "We would like to thank the University of Zurich and our faculty from Deloitte for giving us the opportunity for working on this project. We would especially like to thank our mentor Vladimir Popov for being patient and helpful to us throughout and making us reach our goal. "
      ]
    },
    {
      "cell_type": "markdown",
      "metadata": {
        "id": "k3jL8VqEI9Aa"
      },
      "source": [
        "<b> References and Bibliography </b>\n",
        "1. https://www.statista.com/topics/2086/tesla/#dossierKeyfigures\n",
        "2. https://carsalesbase.com/volkswagen-group-us/\n",
        "3. https://ir.tesla.com/#tab-quarterly-disclosure\n",
        "4. https://climatecommunication.yale.edu/visualizations-data/ycom-us/\n",
        "5. https://www.kaggle.com/mruanova/us-gasoline-and-diesel-retail-prices-19952021\n",
        "6. https://carsalesbase.com/europe-tesla/\n",
        "7. https://towardsdatascience.com/predicting-sales-611cb5a252de\n",
        "8. https://en.wikipedia.org/wiki/List_of_Tesla_factories\n",
        "9. https://ourworldindata.org/grapher/gdp-per-capita-worldbank?country=~CHE\n",
        "10. https://data.oecd.org/energy/crude-oil-import-prices.htm"
      ]
    },
    {
      "cell_type": "code",
      "execution_count": null,
      "metadata": {
        "id": "P1CfqkqCI9Aa"
      },
      "outputs": [],
      "source": [
        ""
      ]
    }
  ],
  "metadata": {
    "colab": {
      "name": "FA_Golden_Sales_Model-2.ipynb",
      "provenance": [],
      "collapsed_sections": []
    },
    "kernelspec": {
      "display_name": "Python 3",
      "language": "python",
      "name": "python3"
    },
    "language_info": {
      "codemirror_mode": {
        "name": "ipython",
        "version": 3
      },
      "file_extension": ".py",
      "mimetype": "text/x-python",
      "name": "python",
      "nbconvert_exporter": "python",
      "pygments_lexer": "ipython3",
      "version": "3.8.8"
    }
  },
  "nbformat": 4,
  "nbformat_minor": 0
}